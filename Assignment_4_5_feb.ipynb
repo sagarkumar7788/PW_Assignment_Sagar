{
 "cells": [
  {
   "cell_type": "markdown",
   "id": "9351fc77",
   "metadata": {},
   "source": [
    "### Q1. Explain Class and Object with respect to Object-Oriented Programming. Give a suitable example."
   ]
  },
  {
   "cell_type": "markdown",
   "id": "cd5a74a9",
   "metadata": {},
   "source": [
    "Class- Class are a blueprint or a set of instructions to build a specific type of object.\n",
    "It is a basic concept of Object-Oriented Programming which revolve around the real-life entities\n",
    "example - when we talk about a car, there is a blueprint of car appear in our mind. but we did not know about\n",
    "the car model an all, but a blueprint appears.\n",
    "\n",
    "Object- Object is an instance of a class. An object in OOPS is nothing but a self-contained component \n",
    "which consists of methods and properties to make a particular type of data useful. \n",
    "For example color name, table, bag, barking."
   ]
  },
  {
   "cell_type": "markdown",
   "id": "ac5253e8",
   "metadata": {},
   "source": [
    "### Q2. Name the four pillars of OOPs."
   ]
  },
  {
   "cell_type": "markdown",
   "id": "189e0ae0",
   "metadata": {},
   "source": [
    "The four pillars are :\n",
    "    1>Inheritance\n",
    "    2>Polymorphism\n",
    "    3>Encapsulation\n",
    "    4>Abstraction."
   ]
  },
  {
   "cell_type": "markdown",
   "id": "031f4f90",
   "metadata": {},
   "source": [
    "### Q3. Explain why the __init__() function is used. Give a suitable example."
   ]
  },
  {
   "cell_type": "markdown",
   "id": "76f372fd",
   "metadata": {},
   "source": [
    "All classes have a function called __init__(), which is always executed when the class is being initiated\n",
    "We use the __init__() function to assign values to object properties, or other operations that are necessary\n",
    "to do when the object is being created\n",
    "Example:\n",
    "    Create a class named Person, use the __init__() function to assign values for name and age:\n",
    "\n",
    "class Person:\n",
    "  def __init__(self, name, age):\n",
    "    self.name = name\n",
    "    self.age = age\n",
    "\n",
    "p1 = Person(\"John\", 36)\n",
    "\n",
    "print(p1.name)\n",
    "print(p1.age)"
   ]
  },
  {
   "cell_type": "markdown",
   "id": "80a19737",
   "metadata": {},
   "source": [
    "### Q4. Why self is used in OOPs?"
   ]
  },
  {
   "cell_type": "markdown",
   "id": "be275ddd",
   "metadata": {},
   "source": [
    "Self represents the instance of the class. By using the “self”  we can access the attributes and methods\n",
    "of the class in python. It binds the attributes with the given arguments."
   ]
  },
  {
   "cell_type": "markdown",
   "id": "4e2c93b3",
   "metadata": {},
   "source": [
    "### Q5. What is inheritance? Give an example for each type of inheritance."
   ]
  },
  {
   "cell_type": "markdown",
   "id": "42ec949b",
   "metadata": {},
   "source": [
    "#Inheritance is the capacity of a particular class to obtain or inherit properties from another class and\n",
    "#then use them when required.\n",
    "#it is just like child have some property of father.\n",
    "#Example\n",
    "class Parent1:\n",
    "    def func_1(self):  \n",
    "        print (\"This function is defined inside the parent class.\")  \n",
    "  \n",
    "class Child1(Parent1):  \n",
    "    def func_2(self):  \n",
    "        print (\"This function is defined inside the child class.\")  \n",
    "  \n",
    "\n",
    "object = Child1()  \n",
    "object.func_1()  \n",
    "object.func_2()  "
   ]
  }
 ],
 "metadata": {
  "kernelspec": {
   "display_name": "Python 3 (ipykernel)",
   "language": "python",
   "name": "python3"
  },
  "language_info": {
   "codemirror_mode": {
    "name": "ipython",
    "version": 3
   },
   "file_extension": ".py",
   "mimetype": "text/x-python",
   "name": "python",
   "nbconvert_exporter": "python",
   "pygments_lexer": "ipython3",
   "version": "3.9.7"
  }
 },
 "nbformat": 4,
 "nbformat_minor": 5
}
