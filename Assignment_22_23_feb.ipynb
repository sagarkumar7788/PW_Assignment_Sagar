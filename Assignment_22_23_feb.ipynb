{
 "cells": [
  {
   "cell_type": "markdown",
   "id": "a4064e35",
   "metadata": {},
   "source": [
    "## Q1. Create a Pandas Series that contains the following data: 4, 8, 15, 16, 23, and 42. Then, print the series."
   ]
  },
  {
   "cell_type": "code",
   "execution_count": 1,
   "id": "61e7089c",
   "metadata": {},
   "outputs": [
    {
     "name": "stdout",
     "output_type": "stream",
     "text": [
      "0     4\n",
      "1     8\n",
      "2    15\n",
      "3    16\n",
      "4    23\n",
      "5    42\n",
      "dtype: int64\n"
     ]
    }
   ],
   "source": [
    "import pandas as pd\n",
    "\n",
    "data = [4, 8, 15, 16, 23, 42]\n",
    "\n",
    "series = pd.Series(data)\n",
    "\n",
    "print(series)\n"
   ]
  },
  {
   "cell_type": "markdown",
   "id": "ff290d4a",
   "metadata": {},
   "source": [
    "## Q2. Create a variable of list type containing 10 elements in it, and apply pandas.Series function on the variable print it."
   ]
  },
  {
   "cell_type": "code",
   "execution_count": 2,
   "id": "4ecf25d7",
   "metadata": {},
   "outputs": [
    {
     "name": "stdout",
     "output_type": "stream",
     "text": [
      "0     1\n",
      "1     2\n",
      "2     3\n",
      "3     4\n",
      "4     5\n",
      "5     6\n",
      "6     7\n",
      "7     8\n",
      "8     9\n",
      "9    10\n",
      "dtype: int64\n"
     ]
    }
   ],
   "source": [
    "import pandas as pd\n",
    "\n",
    "my_list = [1, 2, 3, 4, 5, 6, 7, 8, 9, 10]\n",
    "\n",
    "my_series = pd.Series(my_list)\n",
    "\n",
    "print(my_series)\n"
   ]
  },
  {
   "cell_type": "markdown",
   "id": "c67181ed",
   "metadata": {},
   "source": [
    "## Q3. Create a Pandas DataFrame that contains the following data: Then, print the DataFrame.\n"
   ]
  },
  {
   "cell_type": "markdown",
   "id": "8b1a7054",
   "metadata": {},
   "source": [
    "![](Q1.jpg)"
   ]
  },
  {
   "cell_type": "code",
   "execution_count": 3,
   "id": "3c933649",
   "metadata": {},
   "outputs": [
    {
     "name": "stdout",
     "output_type": "stream",
     "text": [
      "     Name  Age  Gender\n",
      "0   Alice   25  Female\n",
      "1     Bob   30    Male\n",
      "2  Claire   27  Female\n"
     ]
    }
   ],
   "source": [
    "import pandas as pd\n",
    "\n",
    "data = {\n",
    "    'Name': ['Alice', 'Bob', 'Claire'],\n",
    "    'Age': [25, 30, 27],\n",
    "    'Gender': ['Female', 'Male', 'Female']\n",
    "}\n",
    "\n",
    "df = pd.DataFrame(data)\n",
    "\n",
    "print(df)\n"
   ]
  },
  {
   "cell_type": "markdown",
   "id": "e49c26cb",
   "metadata": {},
   "source": [
    "## Q4. What is ‘DataFrame’ in pandas and how is it different from pandas.series? Explain with an example."
   ]
  },
  {
   "cell_type": "markdown",
   "id": "f1dc781f",
   "metadata": {},
   "source": [
    "In Pandas, a DataFrame is a two-dimensional tabular data structure that can store data of different types in columns. Each column of a DataFrame is a Series, which is a one-dimensional labeled array capable of holding any data type, including objects, numbers, and strings.\n",
    "\n",
    "The main difference between a DataFrame and a Series is that a DataFrame can store multiple columns of data while a Series can only store a single column of data. Another important difference is that a DataFrame has both row and column indices, while a Series has only a single index."
   ]
  },
  {
   "cell_type": "code",
   "execution_count": 5,
   "id": "ef8b3318",
   "metadata": {},
   "outputs": [
    {
     "name": "stdout",
     "output_type": "stream",
     "text": [
      "    Name  Age      City\n",
      "0   John   25  New York\n",
      "1  Alice   27    London\n",
      "2    Bob   22     Paris\n",
      "3   Kate   30     Tokyo\n"
     ]
    }
   ],
   "source": [
    "import pandas as pd\n",
    "\n",
    "data = {'Name': ['John', 'Alice', 'Bob', 'Kate'],\n",
    "        'Age': [25, 27, 22, 30],\n",
    "        'City': ['New York', 'London', 'Paris', 'Tokyo']}\n",
    "\n",
    "df = pd.DataFrame(data)\n",
    "\n",
    "age_series = df['Age']\n",
    "\n",
    "print(df)\n"
   ]
  },
  {
   "cell_type": "markdown",
   "id": "de8e7e4d",
   "metadata": {},
   "source": [
    "## Q5. What are some common functions you can use to manipulate data in a Pandas DataFrame? Can you give an example of when you might use one of these functions?"
   ]
  },
  {
   "cell_type": "markdown",
   "id": "f5f33b02",
   "metadata": {},
   "source": [
    "Pandas provides a rich set of functions to manipulate and transform data in a DataFrame. Here are some common functions that you can use:\n",
    "\n",
    "head() and tail(): These functions allow you to preview the first or last n rows of a DataFrame, respectively. For example, df.head() would return the first 5 rows of the DataFrame df.\n",
    "\n",
    "describe(): This function generates a statistical summary of the DataFrame, including count, mean, standard deviation, minimum, maximum, and quartile values. For example, df.describe() would generate a summary of the DataFrame df.\n",
    "\n",
    "groupby(): This function allows you to group the rows of a DataFrame based on one or more columns, and apply an aggregation function to each group. For example, df.groupby('Category')['Sales'].sum() would group the DataFrame df by the 'Category' column and sum the 'Sales' column for each group.\n",
    "\n",
    "drop(): This function allows you to drop one or more rows or columns from a DataFrame. For example, df.drop(['Column1', 'Column2'], axis=1) would drop the 'Column1' and 'Column2' columns from the DataFrame df.\n",
    "\n",
    "sort_values(): This function allows you to sort the rows of a DataFrame based on one or more columns. For example, df.sort_values('Date') would sort the DataFrame df by the 'Date' column.\n",
    "\n",
    "fillna(): This function allows you to replace missing values in a DataFrame with a specified value or method. For example, df.fillna(0) would replace all missing values in the DataFrame df with 0.\n",
    "\n",
    "apply(): This function allows you to apply a function to each element or row of a DataFrame. For example, df['Column1'].apply(lambda x: x**2) would apply the function lambda x: x**2 to each element of the 'Column1' column of the DataFrame df."
   ]
  },
  {
   "cell_type": "markdown",
   "id": "655ea1c5",
   "metadata": {},
   "source": [
    "## Q6. Which of the following is mutable in nature Series, DataFrame, Panel?"
   ]
  },
  {
   "cell_type": "markdown",
   "id": "bc846ff5",
   "metadata": {},
   "source": [
    "Among the three data structures provided by pandas, Series and DataFrame are mutable in nature, while Panel is considered deprecated since version 0.25.0 and has been removed in the latest version of pandas.\n",
    "\n",
    "In a Series, you can modify the values of its elements using indexing, slicing, or boolean indexing. Similarly, in a DataFrame, you can modify its elements, add or remove columns or rows, and perform various other operations such as merging, joining, or reshaping the data. However, it's worth noting that any modification you make to a DataFrame or a Series creates a new object rather than modifying the original object in place."
   ]
  },
  {
   "cell_type": "markdown",
   "id": "22db353b",
   "metadata": {},
   "source": [
    "## Q7. Create a DataFrame using multiple Series. Explain with an example."
   ]
  },
  {
   "cell_type": "markdown",
   "id": "7eb13530",
   "metadata": {},
   "source": [
    "To create a DataFrame using multiple Series, you can pass a dictionary of Series to the pd.DataFrame() function, where each key represents a column name and each value represents a Series containing the data for that column."
   ]
  },
  {
   "cell_type": "code",
   "execution_count": 7,
   "id": "a62b043d",
   "metadata": {},
   "outputs": [
    {
     "name": "stdout",
     "output_type": "stream",
     "text": [
      "      Name  Age Gender\n",
      "0    Alice   25      F\n",
      "1      Bob   30      M\n",
      "2  Charlie   35      M\n",
      "3    David   40      M\n"
     ]
    }
   ],
   "source": [
    "import pandas as pd\n",
    "\n",
    "name = pd.Series(['Alice', 'Bob', 'Charlie', 'David'])\n",
    "age = pd.Series([25, 30, 35, 40])\n",
    "gender = pd.Series(['F', 'M', 'M', 'M'])\n",
    "\n",
    "data = {'Name': name, 'Age': age, 'Gender': gender}\n",
    "\n",
    "df = pd.DataFrame(data)\n",
    "\n",
    "print(df)\n"
   ]
  },
  {
   "cell_type": "code",
   "execution_count": null,
   "id": "161e15e1",
   "metadata": {},
   "outputs": [],
   "source": []
  }
 ],
 "metadata": {
  "kernelspec": {
   "display_name": "Python 3 (ipykernel)",
   "language": "python",
   "name": "python3"
  },
  "language_info": {
   "codemirror_mode": {
    "name": "ipython",
    "version": 3
   },
   "file_extension": ".py",
   "mimetype": "text/x-python",
   "name": "python",
   "nbconvert_exporter": "python",
   "pygments_lexer": "ipython3",
   "version": "3.9.7"
  }
 },
 "nbformat": 4,
 "nbformat_minor": 5
}
