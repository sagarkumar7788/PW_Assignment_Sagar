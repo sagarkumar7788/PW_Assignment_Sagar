{
 "cells": [
  {
   "cell_type": "markdown",
   "id": "dd50b9a0",
   "metadata": {},
   "source": [
    "## Q1. Explain GET and POST methods."
   ]
  },
  {
   "cell_type": "markdown",
   "id": "88436516",
   "metadata": {},
   "source": [
    "In web development, GET and POST are two HTTP methods that are used to send data from a client to a server. Here's an explanation of each:\n",
    "\n",
    "GET method:\n",
    "The GET method is used to request data from a server. It is commonly used when a client wants to retrieve some information from a server, such as a webpage or a resource. When a GET request is sent, the data is usually appended to the URL as a query string. For example, if you wanted to retrieve information about a product with the ID of 123, you could send a GET request to the server with a URL like this:\n",
    "\n",
    "http://abc.com/products?id=123\n",
    "\n",
    "\n",
    "POST method:\n",
    "The POST method is used to submit data to a server. It is commonly used when a client wants to send information to a server, such as when submitting a form or creating a new resource. When a POST request is sent, the data is included in the body of the request, rather than in the URL. This makes it more secure than the GET method, as the data is not visible in the URL. For example, if you wanted to submit a form with a username and password, you could send a POST request to the server with the form data included in the body of the request."
   ]
  },
  {
   "cell_type": "markdown",
   "id": "73719e93",
   "metadata": {},
   "source": [
    "## Q2. Why is request used in Flask?"
   ]
  },
  {
   "cell_type": "markdown",
   "id": "9a0b282b",
   "metadata": {},
   "source": [
    "In Flask, the request object is used to access incoming request data, such as form data, query parameters, and file uploads. It allows you to interact with the data that is sent from the client to the server in the HTTP request.\n",
    "\n",
    "The request object provides a number of attributes and methods that allow you to access and manipulate the incoming request data. For example, you can use the request.method attribute to determine the HTTP method used to make the request (e.g. GET, POST), or use the request.form attribute to access the form data submitted with a POST request.\n",
    "\n",
    "\n",
    "from flask import Flask, request\n",
    "\n",
    "app = Flask(__name__)\n",
    "\n",
    "@app.route('/login', methods=['POST'])\n",
    "\n",
    "def login():\n",
    "\n",
    "    username = request.form['username']\n",
    "    \n",
    "    password = request.form['password']\n",
    "    \n",
    "    # check the username and password against the database\n",
    "    \n",
    "    # ...\n",
    "    \n",
    "    return 'Logged in successfully!'\n",
    "\n",
    "@app.route('/search', methods=['GET'])\n",
    "\n",
    "def search():\n",
    "\n",
    "    query = request.args.get('q')\n",
    "    \n",
    "    # perform a search using the query parameter\n",
    "    \n",
    "    # ...\n",
    "    \n",
    "    return 'Search results for: ' + query\n",
    "\n",
    "\n"
   ]
  },
  {
   "cell_type": "markdown",
   "id": "8e2adb6c",
   "metadata": {},
   "source": [
    "## Q3. Why is redirect() used in Flask?"
   ]
  },
  {
   "cell_type": "markdown",
   "id": "eb00d242",
   "metadata": {},
   "source": [
    "In Flask, the redirect() function is used to redirect the user to another endpoint or URL. It is commonly used in web applications to redirect users after a form submission or to direct them to another page based on some logic."
   ]
  },
  {
   "cell_type": "code",
   "execution_count": 1,
   "id": "92ea9b5f",
   "metadata": {},
   "outputs": [],
   "source": [
    "from flask import Flask, redirect, url_for, request\n",
    "\n",
    "app = Flask(__name__)\n",
    "\n",
    "@app.route('/login', methods=['POST'])\n",
    "def login():\n",
    "    username = request.form['username']\n",
    "    password = request.form['password']\n",
    "    # check the username and password against the database\n",
    "    # ...\n",
    "    if user_authenticated:\n",
    "        return redirect(url_for('home'))\n",
    "    else:\n",
    "        return 'Invalid credentials'\n",
    "\n",
    "@app.route('/home')\n",
    "def home():\n",
    "    return 'Welcome to the home page!'\n"
   ]
  },
  {
   "cell_type": "markdown",
   "id": "672eb555",
   "metadata": {},
   "source": [
    "## Q4. What are templates in Flask? Why is the render_template() function used?"
   ]
  },
  {
   "cell_type": "markdown",
   "id": "ae838768",
   "metadata": {},
   "source": [
    "In Flask, templates are used to separate the presentation logic (i.e., how data is displayed) from the application logic (i.e., how data is processed). Templates are files that contain a combination of HTML, CSS, and Jinja2 templating language that define the structure and layout of the web pages.\n",
    "\n",
    "Templates allow you to create dynamic web pages that can be customized based on the data that is passed to them. They make it easy to reuse code and create a consistent look and feel across your web application.\n",
    "\n",
    "In Flask, the render_template() function is used to render templates and pass data to them.\n",
    "\n",
    "from flask import Flask, render_template\n",
    "\n",
    "app = Flask(__name__)\n",
    "\n",
    "@app.route('/')\n",
    "\n",
    "def home():\n",
    "\n",
    "    name = 'John'\n",
    "    \n",
    "    return render_template('home.html', name=name)\n"
   ]
  },
  {
   "cell_type": "markdown",
   "id": "b236d853",
   "metadata": {},
   "source": [
    "## Q5. Create a simple API. Use Postman to test it. Attach the screenshot of the output in the Jupyter Notebook."
   ]
  },
  {
   "cell_type": "code",
   "execution_count": 3,
   "id": "a37b680f",
   "metadata": {},
   "outputs": [
    {
     "name": "stdout",
     "output_type": "stream",
     "text": [
      " * Serving Flask app \"__main__\" (lazy loading)\n",
      " * Environment: production\n",
      "\u001b[31m   WARNING: This is a development server. Do not use it in a production deployment.\u001b[0m\n",
      "\u001b[2m   Use a production WSGI server instead.\u001b[0m\n",
      " * Debug mode: off\n"
     ]
    },
    {
     "name": "stderr",
     "output_type": "stream",
     "text": [
      " * Running on all addresses.\n",
      "   WARNING: This is a development server. Do not use it in a production deployment.\n",
      " * Running on http://192.168.1.51:5000/ (Press CTRL+C to quit)\n",
      "192.168.1.51 - - [09/Apr/2023 01:15:39] \"POST /postman_data HTTP/1.1\" 200 -\n",
      "192.168.1.51 - - [09/Apr/2023 01:15:52] \"POST /postman_data HTTP/1.1\" 200 -\n"
     ]
    }
   ],
   "source": [
    "from flask import Flask,render_template,request,jsonify\n",
    "app = Flask(__name__)\n",
    "@app.route(\"/postman_data\",methods =['POST'])\n",
    "def math_operation1():\n",
    "    if(request.method == 'POST'):\n",
    "        if request.is_json:\n",
    "            data = request.get_json()\n",
    "            ops = data['operation']\n",
    "            num1 = int(data['num1'])\n",
    "            num2= int(data['num2'])\n",
    "            if (ops=='add'):\n",
    "                r= num1+num2\n",
    "                result=\"The sum of  \"+str(num1) + \" and \" + str(num2) + \" is \" +str(r)\n",
    "            elif (ops=='subtract'):\n",
    "                r= num1-num2\n",
    "                result=\"The subtract of  \"+str(num1) + \" and \" + str(num2) + \" is \" +str(r)\n",
    "            elif (ops=='multiply'):\n",
    "                r= num1*num2\n",
    "                result=\"The multiply of  \"+str(num1) + \" and \" + str(num2) + \" is \" +str(r)\n",
    "            elif (ops=='divide'):\n",
    "                r= num1/num2\n",
    "                result=\"The divide of  \"+str(num1) + \" and \" + str(num2) + \" is \" +str(r)\n",
    "            return jsonify(result)\n",
    "        else:\n",
    "            return jsonify({'error': 'Invalid request, JSON data expected'})\n",
    "\n",
    "\n",
    "if __name__==\"__main__\":\n",
    "    app.run(host=\"0.0.0.0\")"
   ]
  },
  {
   "cell_type": "markdown",
   "id": "29cd38f5",
   "metadata": {},
   "source": [
    "![](flask1.jpg)"
   ]
  },
  {
   "cell_type": "code",
   "execution_count": null,
   "id": "0197b61d",
   "metadata": {},
   "outputs": [],
   "source": []
  }
 ],
 "metadata": {
  "kernelspec": {
   "display_name": "Python 3 (ipykernel)",
   "language": "python",
   "name": "python3"
  },
  "language_info": {
   "codemirror_mode": {
    "name": "ipython",
    "version": 3
   },
   "file_extension": ".py",
   "mimetype": "text/x-python",
   "name": "python",
   "nbconvert_exporter": "python",
   "pygments_lexer": "ipython3",
   "version": "3.9.7"
  }
 },
 "nbformat": 4,
 "nbformat_minor": 5
}
