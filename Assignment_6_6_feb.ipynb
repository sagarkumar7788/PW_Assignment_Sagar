{
 "cells": [
  {
   "cell_type": "markdown",
   "id": "81fa035e",
   "metadata": {},
   "source": [
    "### Q1. Create a function which will take a list as an argument and return the product of all the numbers after creating a flat list.\n",
    "\n",
    "Use the below-given list as an argument for your function.\n",
    "\n",
    "list1 = [1,2,3,4, [44,55,66, True], False, (34,56,78,89,34), {1,2,3,3,2,1}, {1:34, \"key2\": [55, 67, 78, 89], 4: (45,\n",
    "22, 61, 34)}, [56, 'data science'], 'Machine Learning']\n",
    "\n",
    "\n",
    "Note: you must extract numeric keys and values of the dictionary also."
   ]
  },
  {
   "cell_type": "code",
   "execution_count": 13,
   "id": "1760034c",
   "metadata": {},
   "outputs": [
    {
     "name": "stdout",
     "output_type": "stream",
     "text": [
      "Flat list is [1, 2, 3, 4, 44, 55, 66, True, False, 34, 56, 78, 89, 34, 1, 2, 3, 1, 'key2', 4, 34, 56, 'data science', 'Machine Learning']\n",
      "And sum is 567\n"
     ]
    }
   ],
   "source": [
    "list1 = [1,2,3,4, [44,55,66, True], False, (34,56,78,89,34), {1,2,3,3,2,1}, {1:34, \"key2\": [55, 67, 78, 89], 4: (45,22, 61, 34)}, [56, 'data science'], 'Machine Learning']\n",
    "def flat(lis):\n",
    "    flatList = []\n",
    "    for element in lis:\n",
    "        if type(element) is list:\n",
    "            for item in element:\n",
    "                flatList.append(item)\n",
    "                \n",
    "        elif type(element) is set:\n",
    "            for item in element:\n",
    "                flatList.append(item)\n",
    "                \n",
    "        elif type(element) is dict:\n",
    "            for i in element.keys():\n",
    "                flatList.append(i)\n",
    "            for j in element.values():\n",
    "                if type(j) is int or type(j) is str:\n",
    "                    flatList.append(j) \n",
    "                else:\n",
    "                    flat(j)\n",
    "                \n",
    "        elif type(element) is tuple:\n",
    "            for item in element:\n",
    "                flatList.append(item)\n",
    "            \n",
    "        else:\n",
    "            flatList.append(element)\n",
    "    return flatList\n",
    "\n",
    "def int_in_list(lis):\n",
    "    l1=flat(lis)\n",
    "    add=0\n",
    "    for i in l1:\n",
    "        if type(i) is int:\n",
    "            add=add+i\n",
    "    print(f\"Flat list is {l1}\")\n",
    "    print(f\"And sum is {add}\")\n",
    "    \n",
    "    \n",
    "    \n",
    "int_in_list(list1)\n",
    "    \n",
    "    \n",
    "    "
   ]
  },
  {
   "cell_type": "markdown",
   "id": "361fb030",
   "metadata": {},
   "source": [
    "### Q2. Write a python program for encrypting a message sent to you by your friend. The logic of encryption\n",
    "should be such that, for a the output should be z. For b, the output should be y. For c, the output should\n",
    "be x respectively. Also, the whitespace should be replaced with a dollar sign. Keep the punctuation\n",
    "marks unchanged.\n",
    "Input Sentence: I want to become a Data Scientist.\n",
    "Encrypt the above input sentence using the program you just created.\n",
    "Note: Convert the given input sentence into lowercase before encrypting. The final output should be\n",
    "lowercase."
   ]
  },
  {
   "cell_type": "code",
   "execution_count": 20,
   "id": "c1bbe995",
   "metadata": {},
   "outputs": [
    {
     "name": "stdout",
     "output_type": "stream",
     "text": [
      "Enter a message to encrypt: I want to become a Data Scientist.\n",
      "Encrypted message: R$dzmg$gl$yvxlnv$z$Wzgz$Hxrvmgrhg.\n",
      "Decrypted message: I want to become a Data Scientist.\n"
     ]
    }
   ],
   "source": [
    "def encrypt(message):\n",
    "    # Create a translation table for the characters\n",
    "    # Replace a with z, b with y, c with x, and so on\n",
    "    trans_table = str.maketrans('.abcdefghijklmnopqrstuvwxyzABCDEFGHIJKLMNOPQRSTUVWXYZ ',\n",
    "                                '.zyxwvutsrqponmlkjihgfedcbaZYXWVUTSRQPONMLKJIHGFEDCBA$')\n",
    "    # Apply the translation table to the message\n",
    "    encrypted_message = message.translate(trans_table)\n",
    "    return encrypted_message\n",
    "\n",
    "def decrypt(message):\n",
    "    # Create a translation table for the characters\n",
    "    # Replace a with z, b with y, c with x, and so on\n",
    "    trans_table = str.maketrans('.zyxwvutsrqponmlkjihgfedcbaZYXWVUTSRQPONMLKJIHGFEDCBA$',\n",
    "                                '.abcdefghijklmnopqrstuvwxyzABCDEFGHIJKLMNOPQRSTUVWXYZ ')\n",
    "    # Apply the translation table to the message\n",
    "    decrypted_message = message.translate(trans_table)\n",
    "    return decrypted_message\n",
    "\n",
    "message = input(\"Enter a message to encrypt: \")\n",
    "encrypted_message = encrypt(message)\n",
    "decrypted_message = decrypt(encrypted_message)\n",
    "print(\"Encrypted message: \" + encrypted_message)\n",
    "print(\"Decrypted message: \" + decrypted_message)"
   ]
  },
  {
   "cell_type": "code",
   "execution_count": null,
   "id": "2609fc60",
   "metadata": {},
   "outputs": [],
   "source": []
  }
 ],
 "metadata": {
  "kernelspec": {
   "display_name": "Python 3 (ipykernel)",
   "language": "python",
   "name": "python3"
  },
  "language_info": {
   "codemirror_mode": {
    "name": "ipython",
    "version": 3
   },
   "file_extension": ".py",
   "mimetype": "text/x-python",
   "name": "python",
   "nbconvert_exporter": "python",
   "pygments_lexer": "ipython3",
   "version": "3.9.7"
  }
 },
 "nbformat": 4,
 "nbformat_minor": 5
}
