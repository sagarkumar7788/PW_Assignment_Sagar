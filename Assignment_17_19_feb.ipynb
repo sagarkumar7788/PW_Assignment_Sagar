{
 "cells": [
  {
   "cell_type": "markdown",
   "id": "69075f6e",
   "metadata": {},
   "source": [
    "## Q1. What is Flask Framework? What are the advantages of Flask Framework?"
   ]
  },
  {
   "cell_type": "markdown",
   "id": "7d0caafb",
   "metadata": {},
   "source": [
    "Flask is a lightweight and popular Python web framework that provides developers with tools and libraries to build web applications quickly and easily. Flask is based on the WSGI (Web Server Gateway Interface) toolkit and provides a simple and flexible way to develop web applications.\n",
    "\n",
    "Here are some advantages of Flask Framework:\n",
    "\n",
    "Lightweight: Flask is a lightweight framework that doesn't require any particular tools or libraries, making it easy to install and use.\n",
    "\n",
    "Easy to learn: Flask has a simple and intuitive API that is easy to learn and use, making it a good choice for beginners.\n",
    "\n",
    "Flexible: Flask is a flexible framework that allows developers to choose the components they want to use and customize their application to meet their specific needs.\n",
    "\n",
    "Modular: Flask is a modular framework that allows developers to break their application into small, reusable components, making it easier to develop and maintain.\n",
    "\n",
    "Extensible: Flask has a large and active community of developers who have created many plugins and extensions that can be easily integrated into Flask applications.\n",
    "\n",
    "Ideal for small to medium-sized applications: Flask is an ideal choice for small to medium-sized web applications that don't require a complex architecture.\n",
    "\n",
    "Compatible with other Python libraries and frameworks: Flask is compatible with other Python libraries and frameworks, making it easy to integrate with other tools and services."
   ]
  },
  {
   "cell_type": "markdown",
   "id": "aa2ceaca",
   "metadata": {},
   "source": [
    "## Q2. Create a simple Flask application to display ‘Hello World!!’. Attach the screenshot of the output in Jupyter Notebook."
   ]
  },
  {
   "cell_type": "code",
   "execution_count": 3,
   "id": "560612da",
   "metadata": {},
   "outputs": [
    {
     "name": "stdout",
     "output_type": "stream",
     "text": [
      " * Serving Flask app \"__main__\" (lazy loading)\n",
      " * Environment: production\n",
      "\u001b[31m   WARNING: This is a development server. Do not use it in a production deployment.\u001b[0m\n",
      "\u001b[2m   Use a production WSGI server instead.\u001b[0m\n",
      " * Debug mode: off\n"
     ]
    },
    {
     "name": "stderr",
     "output_type": "stream",
     "text": [
      " * Running on all addresses.\n",
      "   WARNING: This is a development server. Do not use it in a production deployment.\n",
      " * Running on http://192.168.1.51:5000/ (Press CTRL+C to quit)\n",
      "192.168.1.51 - - [07/Apr/2023 03:22:15] \"GET / HTTP/1.1\" 200 -\n"
     ]
    }
   ],
   "source": [
    "from flask import Flask\n",
    "\n",
    "app = Flask(__name__)\n",
    "\n",
    "@app.route(\"/\")\n",
    "def hello_world():\n",
    "    return \"<h1>Hello, World!</h1>\"\n",
    "\n",
    "if __name__==\"__main__\":\n",
    "    app.run(host=\"0.0.0.0\")"
   ]
  },
  {
   "cell_type": "markdown",
   "id": "f98e281d",
   "metadata": {},
   "source": [
    "![](scc.jpg)"
   ]
  },
  {
   "cell_type": "markdown",
   "id": "58d5f9b0",
   "metadata": {},
   "source": [
    "## Q3. What is App routing in Flask? Why do we use app routes?"
   ]
  },
  {
   "cell_type": "markdown",
   "id": "ad8808b6",
   "metadata": {},
   "source": [
    "In Flask, an app route is a way to bind a URL to a function that returns content to be displayed on a web page. It allows the Flask application to map specific URLs to functions that will be called to handle requests made to that URL.\n",
    "\n",
    "App routing is an essential feature of Flask as it enables the creation of dynamic web applications where users can navigate through different pages of the application based on the URLs they visit. App routing also allows developers to create RESTful APIs by defining routes that return data in various formats like JSON, XML, or plain text.\n",
    "\n",
    "In Flask, app routes are defined using the @app.route() decorator. The decorator takes a URL path as its argument and binds the URL to the function that follows it"
   ]
  },
  {
   "cell_type": "markdown",
   "id": "0afcb328",
   "metadata": {},
   "source": [
    "## Q4. Create a “/welcome” route to display the welcome message “Welcome to ABC Corporation” and a “/” route to show the following details:\n",
    "Company Name: ABC Corporation\n",
    "Location: India\n",
    "Contact Detail: 999-999-9999"
   ]
  },
  {
   "cell_type": "code",
   "execution_count": 12,
   "id": "14c83e54",
   "metadata": {},
   "outputs": [
    {
     "name": "stdout",
     "output_type": "stream",
     "text": [
      " * Serving Flask app \"__main__\" (lazy loading)\n",
      " * Environment: production\n",
      "\u001b[31m   WARNING: This is a development server. Do not use it in a production deployment.\u001b[0m\n",
      "\u001b[2m   Use a production WSGI server instead.\u001b[0m\n",
      " * Debug mode: off\n"
     ]
    },
    {
     "name": "stderr",
     "output_type": "stream",
     "text": [
      " * Running on all addresses.\n",
      "   WARNING: This is a development server. Do not use it in a production deployment.\n",
      " * Running on http://192.168.1.51:5000/ (Press CTRL+C to quit)\n",
      "192.168.1.51 - - [07/Apr/2023 03:49:25] \"GET / HTTP/1.1\" 200 -\n",
      "192.168.1.51 - - [07/Apr/2023 03:49:36] \"GET /welcome HTTP/1.1\" 200 -\n",
      "192.168.1.51 - - [07/Apr/2023 03:49:55] \"GET / HTTP/1.1\" 200 -\n"
     ]
    }
   ],
   "source": [
    "from flask import Flask\n",
    "app = Flask(__name__)\n",
    "\n",
    "@app.route(\"/\")\n",
    "def details():\n",
    "    return \"<h1>Company Name : ABC Corporation,<br>  Location: India <br> Contact Details: 999-999-9999 <h1>\"\n",
    "\n",
    "@app.route(\"/welcome\")\n",
    "def wel():\n",
    "    return \"<h1>Welcome to ABC Corporatin <h1>\"\n",
    "\n",
    "\n",
    "if __name__==\"__main__\":\n",
    "    app.run(host=\"0.0.0.0\")"
   ]
  },
  {
   "cell_type": "markdown",
   "id": "1ad8b69b",
   "metadata": {},
   "source": [
    "![](scc1.jpg)\n",
    "![](scc2.jpg)"
   ]
  },
  {
   "cell_type": "markdown",
   "id": "f0692aaa",
   "metadata": {},
   "source": [
    "## Q5. What function is used in Flask for URL Building? Write a Python code to demonstrate the working of the url_for() function."
   ]
  },
  {
   "cell_type": "markdown",
   "id": "30c12b94",
   "metadata": {},
   "source": [
    "In Flask, the url_for() function is used for URL building. This function generates a URL based on the endpoint name and any arguments provided to it. It is useful for creating dynamic links between different pages of a web application."
   ]
  },
  {
   "cell_type": "code",
   "execution_count": 13,
   "id": "a8122c29",
   "metadata": {},
   "outputs": [
    {
     "name": "stdout",
     "output_type": "stream",
     "text": [
      " * Serving Flask app \"__main__\" (lazy loading)\n",
      " * Environment: production\n",
      "\u001b[31m   WARNING: This is a development server. Do not use it in a production deployment.\u001b[0m\n",
      "\u001b[2m   Use a production WSGI server instead.\u001b[0m\n",
      " * Debug mode: off\n"
     ]
    },
    {
     "name": "stderr",
     "output_type": "stream",
     "text": [
      " * Running on all addresses.\n",
      "   WARNING: This is a development server. Do not use it in a production deployment.\n",
      " * Running on http://192.168.1.51:5000/ (Press CTRL+C to quit)\n",
      "192.168.1.51 - - [07/Apr/2023 03:52:03] \"GET / HTTP/1.1\" 200 -\n",
      "192.168.1.51 - - [07/Apr/2023 03:52:50] \"GET /about HTTP/1.1\" 200 -\n"
     ]
    }
   ],
   "source": [
    "from flask import Flask, url_for\n",
    "\n",
    "app = Flask(__name__)\n",
    "\n",
    "@app.route('/')\n",
    "def index():\n",
    "    # generate a URL for the about page\n",
    "    about_url = url_for('about')\n",
    "    return f'welcome to home screen <a href=\"{about_url}\">Click here for web 2</a>'\n",
    "\n",
    "@app.route('/about')\n",
    "def about():\n",
    "    return 'Welcome to link 2'\n",
    "\n",
    "if __name__ == '__main__':\n",
    "    app.run(host=\"0.0.0.0\")\n"
   ]
  },
  {
   "cell_type": "markdown",
   "id": "6ded21b3",
   "metadata": {},
   "source": [
    "![](scc3.jpg)\n",
    "![](scc4.jpg)"
   ]
  },
  {
   "cell_type": "code",
   "execution_count": null,
   "id": "357e4bc4",
   "metadata": {},
   "outputs": [],
   "source": []
  }
 ],
 "metadata": {
  "kernelspec": {
   "display_name": "Python 3 (ipykernel)",
   "language": "python",
   "name": "python3"
  },
  "language_info": {
   "codemirror_mode": {
    "name": "ipython",
    "version": 3
   },
   "file_extension": ".py",
   "mimetype": "text/x-python",
   "name": "python",
   "nbconvert_exporter": "python",
   "pygments_lexer": "ipython3",
   "version": "3.9.7"
  }
 },
 "nbformat": 4,
 "nbformat_minor": 5
}
