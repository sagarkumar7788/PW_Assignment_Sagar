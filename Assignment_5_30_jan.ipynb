{
 "cells": [
  {
   "cell_type": "markdown",
   "id": "3f2ec08b",
   "metadata": {},
   "source": [
    "### 1. Write a program to accept percentage from the user and display the grade according to the following.\n",
    " >90= A`\n",
    " `>80 and <=90 = B`\n",
    " `>=60 and <=80 = C`\n",
    "` below 60 =D`"
   ]
  },
  {
   "cell_type": "code",
   "execution_count": 5,
   "id": "7e7725d1",
   "metadata": {},
   "outputs": [],
   "source": [
    "def per(n):\n",
    "    if n>90:\n",
    "        print(\"Congratulations you got A grade\")\n",
    "    elif (n>80 and n<=90):\n",
    "        print(\"Congratulations you got B grade\")\n",
    "    elif (n>=60 and n<=80):\n",
    "        print(\"Congratulations you got C grade\")\n",
    "    else :\n",
    "        print(\"Congratulations you got D grade\")"
   ]
  },
  {
   "cell_type": "code",
   "execution_count": 7,
   "id": "3d68855f",
   "metadata": {},
   "outputs": [
    {
     "name": "stdout",
     "output_type": "stream",
     "text": [
      "Pllease enter your percentage90\n",
      "Congratulations you got B grade\n"
     ]
    }
   ],
   "source": [
    "p=int(input(\"Pllease enter your percentage\"))\n",
    "per(p)"
   ]
  },
  {
   "cell_type": "markdown",
   "id": "e648f67e",
   "metadata": {},
   "source": [
    "### 2. Write a program to accept the cost price of a bike and display the road tax to be paid according to the following criteria:\n",
    "\n",
    "Tax | Cost Price(in Rs) \\n\n",
    "\n",
    "15% | >100000 \\n\n",
    "\n",
    "10% | >50000 and <= 100000 \\n\n",
    "\n",
    "\n",
    "5% | < = 50000 \\n"
   ]
  },
  {
   "cell_type": "code",
   "execution_count": 12,
   "id": "f59545ef",
   "metadata": {},
   "outputs": [],
   "source": [
    "def price(n):\n",
    "    if n>100000:\n",
    "        tax = n*15/100\n",
    "        print(f\"You have to pay tax amount {tax}\")\n",
    "        print(f\"And you have to pay total amount {tax+n}\")\n",
    "    elif (n>50000 and n<=100000):\n",
    "        tax = n*10/100\n",
    "        print(f\"You have to pay tax amount  {tax}\")\n",
    "        print(f\"And you have to pay total amount {tax+n}\")\n",
    "    else:\n",
    "        tax = n*5/100\n",
    "        print(f\"You have to pay tax amount {tax}\")\n",
    "        print(f\"And you have to pay total amount {tax+n}\")\n",
    "            "
   ]
  },
  {
   "cell_type": "code",
   "execution_count": 15,
   "id": "1bab5309",
   "metadata": {},
   "outputs": [
    {
     "name": "stdout",
     "output_type": "stream",
     "text": [
      "You have to pay tax amount  7500.0\n",
      "And you have to pay total amount 82500.0\n"
     ]
    }
   ],
   "source": [
    "price(75000)"
   ]
  },
  {
   "cell_type": "markdown",
   "id": "f47e8dfc",
   "metadata": {},
   "source": [
    "### 3. Accept any city from the user and display monuments of that city.\n",
    " City    Monument\n",
    "    \n",
    "Delhi   Red Fort\n",
    "\n",
    "Agra    Taj Mahal\n",
    "\n",
    "Jaipur  Jai Mahal"
   ]
  },
  {
   "cell_type": "code",
   "execution_count": 26,
   "id": "8eba378e",
   "metadata": {},
   "outputs": [],
   "source": [
    "def city(n):\n",
    "    city_list ={\"Delhi\":\"Red Fort\", \"Agra\":\"Taj Mahal\",\"Jaipur\":\"Jai Mahal\"}\n",
    "    print(city_list[n.capitalize()])"
   ]
  },
  {
   "cell_type": "code",
   "execution_count": 32,
   "id": "41bf4664",
   "metadata": {},
   "outputs": [
    {
     "name": "stdout",
     "output_type": "stream",
     "text": [
      "Please enter the city name : agra\n",
      "Taj Mahal\n"
     ]
    }
   ],
   "source": [
    "c = input(\"Please enter the city name : \")\n",
    "city(c)"
   ]
  },
  {
   "cell_type": "markdown",
   "id": "da9939f4",
   "metadata": {},
   "source": [
    "### 4. Check how many times a given number can be divided by 3 before it is less than or equal to 10."
   ]
  },
  {
   "cell_type": "code",
   "execution_count": 75,
   "id": "e660a1ba",
   "metadata": {},
   "outputs": [],
   "source": [
    "def div(n):\n",
    "    if n <= 10:\n",
    "        p= int(n/3)\n",
    "        return p\n",
    "    else:\n",
    "        print(\"Opps the number you have entered is greater then 10\")"
   ]
  },
  {
   "cell_type": "code",
   "execution_count": 81,
   "id": "29a576ab",
   "metadata": {},
   "outputs": [
    {
     "data": {
      "text/plain": [
       "2"
      ]
     },
     "execution_count": 81,
     "metadata": {},
     "output_type": "execute_result"
    }
   ],
   "source": [
    "div(6)"
   ]
  },
  {
   "cell_type": "markdown",
   "id": "1b4729f5",
   "metadata": {},
   "source": [
    "### 5. Why and When to Use while Loop in Python give a detailed description with example."
   ]
  },
  {
   "cell_type": "code",
   "execution_count": 82,
   "id": "c5acf149",
   "metadata": {},
   "outputs": [
    {
     "name": "stdout",
     "output_type": "stream",
     "text": [
      "1\n",
      "2\n",
      "3\n",
      "4\n",
      "5\n"
     ]
    }
   ],
   "source": [
    "# A While loop in Python allows a part of the code to be executed repeatedly as long as a given condition is true.\n",
    "# The While loop in Python is also called a pre-tested loop.\n",
    "# It is typically used when the number of iterations is not known.\n",
    "\n",
    "i = 1\n",
    "n = 5\n",
    "\n",
    "while i <= n:\n",
    "    print(i)\n",
    "    i = i + 1"
   ]
  },
  {
   "cell_type": "markdown",
   "id": "08c86f10",
   "metadata": {},
   "source": [
    "### 6. Use nested while loop to print 3 different pattern."
   ]
  },
  {
   "cell_type": "code",
   "execution_count": 83,
   "id": "8438f8b8",
   "metadata": {},
   "outputs": [
    {
     "name": "stdout",
     "output_type": "stream",
     "text": [
      "1 \n",
      "3 3 \n",
      "5 5 5 \n",
      "7 7 7 7 \n",
      "9 9 9 9 9 \n"
     ]
    }
   ],
   "source": [
    "rows = 5\n",
    "i = 1\n",
    "while i <= rows:\n",
    "    j = 1\n",
    "    while j <= i:\n",
    "        print((i * 2 - 1), end=\" \")\n",
    "        j = j + 1\n",
    "    i = i + 1\n",
    "    print('')"
   ]
  },
  {
   "cell_type": "markdown",
   "id": "0523939a",
   "metadata": {},
   "source": [
    "### 7. Reverse a while loop to display numbers from 10 to 1."
   ]
  },
  {
   "cell_type": "code",
   "execution_count": 84,
   "id": "1a1ffb61",
   "metadata": {},
   "outputs": [
    {
     "name": "stdout",
     "output_type": "stream",
     "text": [
      "10\n",
      "9\n",
      "8\n",
      "7\n",
      "6\n",
      "5\n",
      "4\n",
      "3\n",
      "2\n",
      "1\n"
     ]
    }
   ],
   "source": [
    "i = 1\n",
    "n = 10\n",
    "\n",
    "while n>=i:\n",
    "    print(n)\n",
    "    n = n - 1"
   ]
  },
  {
   "cell_type": "markdown",
   "id": "2bac4378",
   "metadata": {},
   "source": [
    "### 8. Reverse a while loop to display numbers from 10 to 1."
   ]
  },
  {
   "cell_type": "code",
   "execution_count": 85,
   "id": "c9d14259",
   "metadata": {},
   "outputs": [
    {
     "name": "stdout",
     "output_type": "stream",
     "text": [
      "10\n",
      "9\n",
      "8\n",
      "7\n",
      "6\n",
      "5\n",
      "4\n",
      "3\n",
      "2\n",
      "1\n"
     ]
    }
   ],
   "source": [
    "i = 1\n",
    "n = 10\n",
    "\n",
    "while n>=i:\n",
    "    print(n)\n",
    "    n = n - 1"
   ]
  },
  {
   "cell_type": "code",
   "execution_count": null,
   "id": "65608ca7",
   "metadata": {},
   "outputs": [],
   "source": []
  }
 ],
 "metadata": {
  "kernelspec": {
   "display_name": "Python 3 (ipykernel)",
   "language": "python",
   "name": "python3"
  },
  "language_info": {
   "codemirror_mode": {
    "name": "ipython",
    "version": 3
   },
   "file_extension": ".py",
   "mimetype": "text/x-python",
   "name": "python",
   "nbconvert_exporter": "python",
   "pygments_lexer": "ipython3",
   "version": "3.9.7"
  }
 },
 "nbformat": 4,
 "nbformat_minor": 5
}
