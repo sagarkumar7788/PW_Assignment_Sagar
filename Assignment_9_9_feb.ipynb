{
 "cells": [
  {
   "cell_type": "markdown",
   "id": "96079a8d",
   "metadata": {},
   "source": [
    "## Q1. Create a vehicle class with an init method having instance variables as name_of_vehicle, max_speed and average_of_vehicle."
   ]
  },
  {
   "cell_type": "code",
   "execution_count": 1,
   "id": "833931c8",
   "metadata": {},
   "outputs": [],
   "source": [
    "class vehicle:\n",
    "    def __init__(self,name_of_vehicle,max_speed,average_of_vehicle):\n",
    "        self.name_of_vehicle=name_of_vehicle\n",
    "        self.max_speed=max_speed\n",
    "        self.average_of_vehicle=average_of_vehicle\n",
    "        \n",
    "    def tax(self):\n",
    "        return 5000\n"
   ]
  },
  {
   "cell_type": "code",
   "execution_count": 2,
   "id": "961a2eb0",
   "metadata": {},
   "outputs": [],
   "source": [
    "obj = vehicle(\"Tata_Naxon\",220,30)"
   ]
  },
  {
   "cell_type": "code",
   "execution_count": 3,
   "id": "76169123",
   "metadata": {},
   "outputs": [
    {
     "data": {
      "text/plain": [
       "30"
      ]
     },
     "execution_count": 3,
     "metadata": {},
     "output_type": "execute_result"
    }
   ],
   "source": [
    "obj.average_of_vehicle"
   ]
  },
  {
   "cell_type": "code",
   "execution_count": 4,
   "id": "26b7c0dd",
   "metadata": {},
   "outputs": [
    {
     "data": {
      "text/plain": [
       "5000"
      ]
     },
     "execution_count": 4,
     "metadata": {},
     "output_type": "execute_result"
    }
   ],
   "source": [
    "obj.tax()"
   ]
  },
  {
   "cell_type": "markdown",
   "id": "781e026b",
   "metadata": {},
   "source": [
    "## Q2. Create a child class car from the vehicle class created in Que 1, which will inherit the vehicle class.\n",
    "Create a method named seating_capacity which takes capacity as an argument and returns the name of\n",
    "the vehicle and its seating capacity."
   ]
  },
  {
   "cell_type": "code",
   "execution_count": 5,
   "id": "83caa84f",
   "metadata": {},
   "outputs": [],
   "source": [
    "class vehicle:\n",
    "    def __init__(self,name_of_vehicle,max_speed,average_of_vehicle):\n",
    "        self.name_of_vehicle=name_of_vehicle\n",
    "        self.max_speed=max_speed\n",
    "        self.average_of_vehicle=average_of_vehicle\n",
    "        \n",
    "    def seating_capacity(self,capacity):\n",
    "        return self.name_of_vehicle,capacity\n",
    "class car(vehicle):\n",
    "    pass"
   ]
  },
  {
   "cell_type": "code",
   "execution_count": 7,
   "id": "4064dbfc",
   "metadata": {},
   "outputs": [],
   "source": [
    "obj=car(\"Toyata\",500,15)"
   ]
  },
  {
   "cell_type": "code",
   "execution_count": 8,
   "id": "5348daa0",
   "metadata": {},
   "outputs": [
    {
     "data": {
      "text/plain": [
       "('Toyata', 6)"
      ]
     },
     "execution_count": 8,
     "metadata": {},
     "output_type": "execute_result"
    }
   ],
   "source": [
    "obj.seating_capacity(6)"
   ]
  },
  {
   "cell_type": "markdown",
   "id": "ae647997",
   "metadata": {},
   "source": [
    "## Q3. What is multiple inheritance? Write a python code to demonstrate multiple inheritance."
   ]
  },
  {
   "cell_type": "markdown",
   "id": "ddb650d1",
   "metadata": {},
   "source": [
    "When a class is derived from more than one base class it is called multiple Inheritance. \n",
    "The derived class inherits all the features of the base case."
   ]
  },
  {
   "cell_type": "code",
   "execution_count": 11,
   "id": "aac6d285",
   "metadata": {},
   "outputs": [],
   "source": [
    "class p1:\n",
    "    def classp1(self):\n",
    "        print(\"This is parent class 1\")      \n",
    "\n",
    "class p2:\n",
    "     def classp2(self):\n",
    "        print(\"This is parent class 2\")\n",
    "\n",
    "class c1(p1, p2):\n",
    "     def classc1(self):\n",
    "        print(\"This is child class 1\")"
   ]
  },
  {
   "cell_type": "code",
   "execution_count": 12,
   "id": "ef4ceb7f",
   "metadata": {},
   "outputs": [],
   "source": [
    "obj= c1()"
   ]
  },
  {
   "cell_type": "code",
   "execution_count": 13,
   "id": "a991aa5f",
   "metadata": {},
   "outputs": [
    {
     "name": "stdout",
     "output_type": "stream",
     "text": [
      "This is child class 1\n"
     ]
    }
   ],
   "source": [
    "obj.classc1()"
   ]
  },
  {
   "cell_type": "code",
   "execution_count": 14,
   "id": "805941b4",
   "metadata": {},
   "outputs": [
    {
     "name": "stdout",
     "output_type": "stream",
     "text": [
      "This is parent class 1\n"
     ]
    }
   ],
   "source": [
    "obj.classp1()"
   ]
  },
  {
   "cell_type": "code",
   "execution_count": 15,
   "id": "171e688b",
   "metadata": {},
   "outputs": [
    {
     "name": "stdout",
     "output_type": "stream",
     "text": [
      "This is parent class 2\n"
     ]
    }
   ],
   "source": [
    "obj.classp2()"
   ]
  },
  {
   "cell_type": "markdown",
   "id": "bae6b828",
   "metadata": {},
   "source": [
    "## Q4.What are getter and setter in python? Create a class and create a getter and a setter method in this class."
   ]
  },
  {
   "cell_type": "markdown",
   "id": "cc1f98fe",
   "metadata": {},
   "source": [
    "In Python, getters and setters are not the same as those in other object-oriented programming languages. \n",
    "Basically, the main purpose of using getters and setters in object-oriented programs is to ensure data encapsulation.\n",
    "Private variables in python are not actually hidden fields like in other object oriented languages. \n",
    "Getters and Setters in python are often used when:\n",
    "\n",
    "-We use getters & setters to add validation logic around getting and setting a value.\n",
    "\n",
    "-To avoid direct access of a class field i.e. private variables cannot be accessed directly or modified by external user."
   ]
  },
  {
   "cell_type": "code",
   "execution_count": 17,
   "id": "b860fd4d",
   "metadata": {},
   "outputs": [
    {
     "name": "stdout",
     "output_type": "stream",
     "text": [
      "21\n",
      "21\n"
     ]
    }
   ],
   "source": [
    "class Sagar:\n",
    "    def __init__(self, age = 0):\n",
    "         self._age = age\n",
    "      \n",
    "    # getter method\n",
    "    def get_age(self):\n",
    "        return self._age\n",
    "      \n",
    "    # setter method\n",
    "    def set_age(self, x):\n",
    "        self._age = x\n",
    "        \n",
    "raj = Sagar()\n",
    "  \n",
    "# setting the age using setter\n",
    "raj.set_age(21)\n",
    "  \n",
    "# retrieving age using getter\n",
    "print(raj.get_age())\n",
    "  \n",
    "print(raj._age)"
   ]
  },
  {
   "cell_type": "markdown",
   "id": "d6b3509c",
   "metadata": {},
   "source": [
    "## Q5.What is method overriding in python? Write a python code to demonstrate method overriding."
   ]
  },
  {
   "cell_type": "markdown",
   "id": "30bac125",
   "metadata": {},
   "source": [
    "Method overriding is an ability of any object-oriented programming language that allows a subclass or\n",
    "child class to provide a specific implementation of a method that is already provided by one of its\n",
    "super-classes or parent classes. When a method in a subclass has the same name, same parameters or\n",
    "signature and same return type(or sub-type) as a method in its super-class, then the method in the\n",
    "subclass is said to override the method in the super-class."
   ]
  },
  {
   "cell_type": "code",
   "execution_count": 18,
   "id": "b03365d4",
   "metadata": {},
   "outputs": [
    {
     "name": "stdout",
     "output_type": "stream",
     "text": [
      "Inside Parent\n",
      "Inside Child\n"
     ]
    }
   ],
   "source": [
    "\n",
    "class Parent():\n",
    "      \n",
    "    def __init__(self):\n",
    "        self.value = \"Inside Parent\"\n",
    "          \n",
    "    # Parent's show method\n",
    "    def show(self):\n",
    "        print(self.value)\n",
    "          \n",
    "class Child(Parent):\n",
    "      \n",
    "    def __init__(self):\n",
    "        self.value = \"Inside Child\"\n",
    "          \n",
    "    # Child's show method\n",
    "    def show(self):\n",
    "        print(self.value)\n",
    "          \n",
    "          \n",
    "obj1 = Parent()\n",
    "obj2 = Child()\n",
    "  \n",
    "obj1.show()\n",
    "obj2.show()"
   ]
  },
  {
   "cell_type": "code",
   "execution_count": null,
   "id": "7348e313",
   "metadata": {},
   "outputs": [],
   "source": []
  }
 ],
 "metadata": {
  "kernelspec": {
   "display_name": "Python 3 (ipykernel)",
   "language": "python",
   "name": "python3"
  },
  "language_info": {
   "codemirror_mode": {
    "name": "ipython",
    "version": 3
   },
   "file_extension": ".py",
   "mimetype": "text/x-python",
   "name": "python",
   "nbconvert_exporter": "python",
   "pygments_lexer": "ipython3",
   "version": "3.9.7"
  }
 },
 "nbformat": 4,
 "nbformat_minor": 5
}
