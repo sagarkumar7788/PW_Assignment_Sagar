{
 "cells": [
  {
   "cell_type": "markdown",
   "id": "1bb9beaf",
   "metadata": {},
   "source": [
    "## Q1. What is an Exception in python? Write the difference between Exceptions and Syntax errors."
   ]
  },
  {
   "cell_type": "markdown",
   "id": "5c410bfa",
   "metadata": {},
   "source": [
    "In Python, an exception is a runtime error that occurs during the execution of a program. When an exception occurs,\n",
    "the normal flow of the program is disrupted and the interpreter throws an exception object, which contains information\n",
    "about the error that occurred.\n",
    "\n",
    "The main difference between exceptions and syntax errors is that syntax errors occur when the code is being parsed by\n",
    "the interpreter, while exceptions occur during the execution of the code.\n",
    "\n",
    "Exceptions in Python can be divided into two types: built-in exceptions and user-defined exceptions.\n",
    "Some of the built-in exceptions in Python are ValueError, TypeError, and FileNotFoundError, while\n",
    "user-defined exceptions can be created by the programmer.\n",
    "\n",
    "In terms of handling exceptions, Python provides the try-except block, which allows you to catch\n",
    "and handle exceptions that occur in your code. By using this block, you can execute a piece of code\n",
    "and catch any exceptions that might be raised during its execution. You can then handle the exception\n",
    "in an appropriate way, such as by displaying an error message or taking some other action to resolve the issue."
   ]
  },
  {
   "cell_type": "markdown",
   "id": "9236d11a",
   "metadata": {},
   "source": [
    "## Q2. What happens when an exception is not handled? Explain with an example."
   ]
  },
  {
   "cell_type": "code",
   "execution_count": 6,
   "id": "183973fa",
   "metadata": {},
   "outputs": [
    {
     "name": "stdout",
     "output_type": "stream",
     "text": [
      "This is my except block division by zero\n"
     ]
    }
   ],
   "source": [
    "#When an exception is not handled, the program terminates abruptly and the user is presented with an error message,\n",
    "#which can be confusing and inconvenient. The error message may not provide enough information to understand the\n",
    "#cause of the problem or how to fix it.\n",
    "#Example\n",
    "#x = 10\n",
    "#y = 0\n",
    "#z = x / y\n",
    "#print(z)\n",
    "\n",
    "#This code will raise a ZeroDivisionError because we are trying to divide a number by zero.\n",
    "#If we don't handle this exception, the program will terminate abruptly with the following error message\n",
    "\n",
    "try:\n",
    "    x = 10\n",
    "    y = 0\n",
    "    z = x / y\n",
    "    print(z)\n",
    "    \n",
    "except Exception as e:\n",
    "    print(\"This is my except block\",e)"
   ]
  },
  {
   "cell_type": "markdown",
   "id": "72be3418",
   "metadata": {},
   "source": [
    "## Q3. Which Python statements are used to catch and handle exceptions? Explain with an example."
   ]
  },
  {
   "cell_type": "code",
   "execution_count": 7,
   "id": "7b8d17f0",
   "metadata": {},
   "outputs": [
    {
     "name": "stdout",
     "output_type": "stream",
     "text": [
      "Enter a number: 0\n",
      "Enter another number: 0\n",
      "Cannot divide by zero.\n"
     ]
    }
   ],
   "source": [
    "#In Python, we use try-except blocks to catch and handle exceptions. The try block contains the code that\n",
    "#may raise an exception, while the except block catches the exception and provides a way to handle it.\n",
    "try:\n",
    "    x = int(input(\"Enter a number: \"))\n",
    "    y = int(input(\"Enter another number: \"))\n",
    "    z = x / y\n",
    "    print(\"The result is\", z)\n",
    "except ValueError:\n",
    "    print(\"Invalid input. Please enter integers only.\")\n",
    "except ZeroDivisionError:\n",
    "    print(\"Cannot divide by zero.\")\n",
    "except Exception as e:\n",
    "    print(\"An error occurred:\", e)"
   ]
  },
  {
   "cell_type": "markdown",
   "id": "e2a2fdc1",
   "metadata": {},
   "source": [
    "## Q4. Explain with an example:\n",
    "a. try and else\n",
    "\n",
    "b. finally\n",
    "\n",
    "c. raise\n"
   ]
  },
  {
   "cell_type": "code",
   "execution_count": 8,
   "id": "7f68c643",
   "metadata": {},
   "outputs": [
    {
     "name": "stdout",
     "output_type": "stream",
     "text": [
      "Enter a number: 5\n",
      "Enter another number: 5\n",
      "The result is 1.0\n"
     ]
    }
   ],
   "source": [
    "#In addition to the try and except blocks, Python also provides an optional else block that can\n",
    "#be used with the try block. The else block is executed if the code in the try block executes\n",
    "#successfully and no exception is raised.\n",
    "try:\n",
    "    x = int(input(\"Enter a number: \"))\n",
    "    y = int(input(\"Enter another number: \"))\n",
    "    z = x / y\n",
    "except ValueError:\n",
    "    print(\"Invalid input. Please enter integers only.\")\n",
    "except ZeroDivisionError:\n",
    "    print(\"Cannot divide by zero.\")\n",
    "else:\n",
    "    print(\"The result is\", z)"
   ]
  },
  {
   "cell_type": "code",
   "execution_count": 9,
   "id": "a92378f4",
   "metadata": {},
   "outputs": [
    {
     "name": "stdout",
     "output_type": "stream",
     "text": [
      "Enter a number: 15\n",
      "Enter another number: 5\n",
      "The result is 3.0\n",
      "Thank you for using the program.\n"
     ]
    }
   ],
   "source": [
    "#Python also provides a finally block that can be used with the try and except blocks. \n",
    "#The code in the finally block is always executed, regardless of whether an exception is raised or not.\n",
    "\n",
    "try:\n",
    "    x = int(input(\"Enter a number: \"))\n",
    "    y = int(input(\"Enter another number: \"))\n",
    "    z = x / y\n",
    "except ValueError:\n",
    "    print(\"Invalid input. Please enter integers only.\")\n",
    "except ZeroDivisionError:\n",
    "    print(\"Cannot divide by zero.\")\n",
    "else:\n",
    "    print(\"The result is\", z)\n",
    "finally:\n",
    "    print(\"Thank you for using the program.\")"
   ]
  },
  {
   "cell_type": "code",
   "execution_count": 11,
   "id": "4a6cc59e",
   "metadata": {},
   "outputs": [
    {
     "name": "stdout",
     "output_type": "stream",
     "text": [
      "Enter your age: -15\n",
      "Age cannot be negative.\n"
     ]
    }
   ],
   "source": [
    "#In Python, we can use the raise statement to manually raise an exception. \n",
    "#We can use this to create our own custom exceptions or to raise built-in exceptions with custom messages.\n",
    "\n",
    "try:\n",
    "    age = int(input(\"Enter your age: \"))\n",
    "    if age < 0:\n",
    "        raise ValueError(\"Age cannot be negative.\")\n",
    "except ValueError as e:\n",
    "    print(e)\n",
    "else:\n",
    "    print(\"Thank you for entering your age.\")"
   ]
  },
  {
   "cell_type": "markdown",
   "id": "225d3d5f",
   "metadata": {},
   "source": [
    "## Q5. What are Custom Exceptions in python? Why do we need Custom Exceptions? Explain with an example."
   ]
  },
  {
   "cell_type": "code",
   "execution_count": 13,
   "id": "d150ce95",
   "metadata": {},
   "outputs": [
    {
     "name": "stdout",
     "output_type": "stream",
     "text": [
      "4.0\n",
      "Cannot calculate square root of a negative number\n"
     ]
    }
   ],
   "source": [
    "#In Python, custom exceptions are user-defined exceptions that can be raised manually by a programmer\n",
    "#to handle a specific error scenario in their program.\n",
    "\n",
    "#We need custom exceptions when we want to handle specific errors that are not covered by the built-in exceptions\n",
    "#provided by Python. By defining our own exceptions, we can make our code more organized, maintainable, and readable.\n",
    "#It also helps us to distinguish between different types of errors in our code.\n",
    "import math\n",
    "class NegativeNumberError(Exception):\n",
    "    def __init__(self,Exception):\n",
    "        self.Exception=Exception\n",
    "\n",
    "def calculate_square_root(n):\n",
    "    if n < 0:\n",
    "        raise NegativeNumberError(\"Cannot calculate square root of a negative number\")\n",
    "    return math.sqrt(n)\n",
    "\n",
    "try:\n",
    "    print(calculate_square_root(16))\n",
    "    print(calculate_square_root(-9))\n",
    "except NegativeNumberError as e:\n",
    "    print(e)"
   ]
  },
  {
   "cell_type": "markdown",
   "id": "af048e58",
   "metadata": {},
   "source": [
    "## Q6. Create a custom exception class. Use this class to handle an exception."
   ]
  },
  {
   "cell_type": "code",
   "execution_count": 14,
   "id": "66f996e8",
   "metadata": {},
   "outputs": [
    {
     "name": "stdout",
     "output_type": "stream",
     "text": [
      "The denominator cannot be zero.\n"
     ]
    }
   ],
   "source": [
    "class InvalidInputError(Exception):\n",
    "    def __init__(self, message):\n",
    "        self.message = message\n",
    "\n",
    "def divide_numbers(a, b):\n",
    "    if b == 0:\n",
    "        raise InvalidInputError(\"The denominator cannot be zero.\")\n",
    "    return a / b\n",
    "\n",
    "try:\n",
    "    result = divide_numbers(10, 0)\n",
    "except InvalidInputError as e:\n",
    "    print(e.message)"
   ]
  },
  {
   "cell_type": "code",
   "execution_count": null,
   "id": "a8160f1d",
   "metadata": {},
   "outputs": [],
   "source": []
  }
 ],
 "metadata": {
  "kernelspec": {
   "display_name": "Python 3 (ipykernel)",
   "language": "python",
   "name": "python3"
  },
  "language_info": {
   "codemirror_mode": {
    "name": "ipython",
    "version": 3
   },
   "file_extension": ".py",
   "mimetype": "text/x-python",
   "name": "python",
   "nbconvert_exporter": "python",
   "pygments_lexer": "ipython3",
   "version": "3.9.7"
  }
 },
 "nbformat": 4,
 "nbformat_minor": 5
}
