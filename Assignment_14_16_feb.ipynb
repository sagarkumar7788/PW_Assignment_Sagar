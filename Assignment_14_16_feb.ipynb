{
 "cells": [
  {
   "cell_type": "markdown",
   "id": "41e15acd",
   "metadata": {},
   "source": [
    "## Q1. What is a database? Differentiate between SQL and NoSQL databases."
   ]
  },
  {
   "cell_type": "markdown",
   "id": "6d14ecca",
   "metadata": {},
   "source": [
    "A database is an organized collection of structured information, or data, typically stored electronically in \n",
    "a computer system.\n",
    "\n",
    "SQL, which stands for “Structured Query Language,” is the programming language that’s been widely used in managing data in relational database management systems (RDBMS) since the 1970s. In the early years, when storage was expensive, SQL databases focused on reducing data duplication.\n",
    "\n",
    "NoSQL is a non-relational database, meaning it allows different structures than a SQL database (not rows and columns) and more flexibility to use a format that best fits the data. The term “NoSQL” was not coined until the early 2000s. It doesn’t mean the systems don’t use SQL, as NoSQL databases do sometimes support some SQL commands. More accurately, “NoSQL” is sometimes defined as “not only SQL.\n"
   ]
  },
  {
   "cell_type": "markdown",
   "id": "428d223f",
   "metadata": {},
   "source": [
    "## Q2. What is DDL? Explain why CREATE, DROP, ALTER, and TRUNCATE are used with an example."
   ]
  },
  {
   "cell_type": "markdown",
   "id": "7427adbf",
   "metadata": {},
   "source": [
    "#DDL stands for Data Definition Language, which is a subset of SQL (Structured Query Language) that is used to create, \n",
    "#modify, and delete database objects such as tables, views, indexes, and other schema objects.\n",
    "\n",
    "CREATE: This DDL command is used to create a new database object like a table, view, index, etc.\n",
    "\n",
    "\n",
    "CREATE TABLE customers (\n",
    "    id INT PRIMARY KEY,\n",
    "    name VARCHAR(50),\n",
    "    email VARCHAR(100),\n",
    "    phone VARCHAR(20)\n",
    ");\n",
    "\n",
    "DROP: This DDL command is used to delete an existing database object like a table, view, index, etc\n",
    "\n",
    "DROP TABLE customers;\n",
    "\n",
    "ALTER: This DDL command is used to modify an existing database object like a table, view, index, etc.\n",
    "\n",
    "ALTER TABLE customers ADD COLUMN address VARCHAR(100);\n",
    "\n",
    "\n",
    "TRUNCATE: This DDL command is used to delete all data from a table without deleting the table structure\n",
    "\n",
    "TRUNCATE TABLE customers;\n"
   ]
  },
  {
   "cell_type": "markdown",
   "id": "77c7b6a7",
   "metadata": {},
   "source": [
    "## Q3. What is DML? Explain INSERT, UPDATE, and DELETE with an example."
   ]
  },
  {
   "cell_type": "markdown",
   "id": "456c19ad",
   "metadata": {},
   "source": [
    "DML stands for Data Manipulation Language, which is another subset of SQL (Structured Query Language) used to manipulate data within a database. DML commands allow you to insert, update, and delete records from tables.\n",
    "\n",
    "INSERT: This DML command is used to insert new records into a table.\n",
    "\n",
    "INSERT INTO customers (id, name, email, phone) \n",
    "VALUES (1, 'John Doe', 'johndoe@email.com', '555-1234');\n",
    "\n",
    "\n",
    "UPDATE: This DML command is used to update existing records within a table.\n",
    "\n",
    "UPDATE customers SET phone='555-5678' WHERE id=1;\n",
    "\n",
    "\n",
    "DELETE: This DML command is used to delete records from a table.\n",
    "\n",
    "DELETE FROM customers WHERE id=1;\n"
   ]
  },
  {
   "cell_type": "markdown",
   "id": "5d95ef1f",
   "metadata": {},
   "source": [
    "## Q4. What is DQL? Explain SELECT with an example."
   ]
  },
  {
   "cell_type": "markdown",
   "id": "58f3dff3",
   "metadata": {},
   "source": [
    "DQL stands for Data Query Language, which is a subset of SQL (Structured Query Language) used to retrieve data from one or more tables within a database. The primary DQL command is SELECT, which is used to retrieve data from a table or multiple tables.\n",
    "\n",
    "SELECT * FROM customers;\n",
    "\n",
    "SELECT id, name, email FROM customers;\n",
    "\n",
    "\n",
    "SELECT * FROM customers WHERE name='John Doe';\n"
   ]
  },
  {
   "cell_type": "markdown",
   "id": "9ec0549d",
   "metadata": {},
   "source": [
    "## Q5. Explain Primary Key and Foreign Key."
   ]
  },
  {
   "cell_type": "markdown",
   "id": "59907da2",
   "metadata": {},
   "source": [
    "A Primary Key is a column or a set of columns that uniquely identifies each record in a table. A Primary Key cannot contain null values, and its values must be unique for every record in the table. The Primary Key is used to enforce referential integrity and ensure that each record in the table can be uniquely identified. For example, in a \"Customers\" table, the \"CustomerID\" column can be the Primary Key, as each customer will have a unique ID number.\n",
    "\n",
    "A Foreign Key is a column or a set of columns in one table that refers to the Primary Key in another table. A Foreign Key creates a relationship between two tables and enforces referential integrity between them. In other words, it ensures that the values in the Foreign Key column in one table match the values in the Primary Key column in another table. For example, in an \"Orders\" table, the \"CustomerID\" column can be a Foreign Key that refers to the \"CustomerID\" column in the \"Customers\" table. This creates a relationship between the two tables, ensuring that each order is associated with a valid customer."
   ]
  },
  {
   "cell_type": "markdown",
   "id": "39b1639a",
   "metadata": {},
   "source": [
    "## Q6. Write a python code to connect MySQL to python. Explain the cursor() and execute() method."
   ]
  },
  {
   "cell_type": "code",
   "execution_count": null,
   "id": "31e9e56b",
   "metadata": {},
   "outputs": [],
   "source": [
    "import mysql.connector\n",
    "\n",
    "# establish a connection to the database\n",
    "mydb = mysql.connector.connect(\n",
    "  host=\"localhost\",\n",
    "  user=\"yourusername\",\n",
    "  password=\"yourpassword\",\n",
    "  database=\"yourdatabase\"\n",
    ")\n",
    "\n",
    "# create a cursor object\n",
    "mycursor = mydb.cursor()\n",
    "\n",
    "# execute a SQL query\n",
    "mycursor.execute(\"SELECT * FROM customers\")\n",
    "\n",
    "# fetch the results\n",
    "result = mycursor.fetchall()\n",
    "\n",
    "# print the results\n",
    "for row in result:\n",
    "  print(row)\n"
   ]
  },
  {
   "cell_type": "markdown",
   "id": "8169ebbf",
   "metadata": {},
   "source": [
    "The execute() method of the cursor object is used to execute a SQL query. In this example, we execute a simple SELECT query to retrieve all records from the \"customers\" table.\n",
    "\n",
    "The cursor() method creates a cursor object that allows you to execute SQL queries and fetch results, while the execute() method is used to execute a SQL query. \n",
    "\n"
   ]
  },
  {
   "cell_type": "markdown",
   "id": "4eefcc45",
   "metadata": {},
   "source": [
    "## Q7. Give the order of execution of SQL clauses in an SQL query."
   ]
  },
  {
   "cell_type": "markdown",
   "id": "203ac0d2",
   "metadata": {},
   "source": [
    "The SQL order of execution defines the order in which the clauses of a query are evaluated.\n",
    "\n",
    "1 from\n",
    "\n",
    "2 Where\n",
    "\n",
    "3 Group by\n",
    "\n",
    "4 Having \n",
    "\n",
    "5 Select \n",
    "\n",
    "6 Order by\n",
    "\n",
    "7 Limit"
   ]
  },
  {
   "cell_type": "code",
   "execution_count": null,
   "id": "e527c47c",
   "metadata": {},
   "outputs": [],
   "source": []
  }
 ],
 "metadata": {
  "kernelspec": {
   "display_name": "Python 3 (ipykernel)",
   "language": "python",
   "name": "python3"
  },
  "language_info": {
   "codemirror_mode": {
    "name": "ipython",
    "version": 3
   },
   "file_extension": ".py",
   "mimetype": "text/x-python",
   "name": "python",
   "nbconvert_exporter": "python",
   "pygments_lexer": "ipython3",
   "version": "3.9.7"
  }
 },
 "nbformat": 4,
 "nbformat_minor": 5
}
