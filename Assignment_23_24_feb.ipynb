{
 "cells": [
  {
   "cell_type": "markdown",
   "id": "77f10505",
   "metadata": {},
   "source": [
    "## Q1. List any five functions of the pandas library with execution."
   ]
  },
  {
   "cell_type": "code",
   "execution_count": null,
   "id": "f982384b",
   "metadata": {},
   "outputs": [],
   "source": [
    "#read_csv(): This function is used to read data from a CSV file and create a pandas DataFrame object.\n",
    "import pandas as pd\n",
    "\n",
    "df = pd.read_csv('data.csv')\n",
    "\n",
    "#head(): This function is used to display the first n rows of a DataFrame (by default, n=5).\n",
    "\n",
    "df.head(10)\n",
    "\n",
    "# groupby(): This function is used to group rows of a DataFrame based on the values in one or more columns.\n",
    "\n",
    "grouped = df.groupby('category')\n",
    "\n",
    "means = grouped['price'].mean()\n",
    "\n",
    "print(means)\n",
    "\n",
    "# dropna(): This function is used to remove rows or columns from a DataFrame that contain missing values.\n",
    "\n",
    "df = df.dropna()\n",
    "\n",
    "print(df)\n",
    "\n",
    "# merge(): This function is used to combine two or more DataFrames into a single DataFrame based on a common column.\n",
    "\n",
    "import pandas as pd\n",
    "\n",
    "df1 = pd.DataFrame({'key': ['A', 'B', 'C', 'D'], 'value': [1, 2, 3, 4]})\n",
    "df2 = pd.DataFrame({'key': ['B', 'D', 'E', 'F'], 'value': [5, 6, 7, 8]})\n",
    "\n",
    "merged = pd.merge(df1, df2, on='key')\n",
    "\n",
    "print(merged)\n"
   ]
  },
  {
   "cell_type": "markdown",
   "id": "353abfb3",
   "metadata": {},
   "source": [
    "## Q2. Given a Pandas DataFrame df with columns 'A', 'B', and 'C', write a Python function to re-index the DataFrame with a new index that starts from 1 and increments by 2 for each row."
   ]
  },
  {
   "cell_type": "code",
   "execution_count": 2,
   "id": "cbe86a7d",
   "metadata": {},
   "outputs": [
    {
     "name": "stdout",
     "output_type": "stream",
     "text": [
      "   A  B  C\n",
      "1  1  4  7\n",
      "3  2  5  8\n",
      "5  3  6  9\n"
     ]
    }
   ],
   "source": [
    "import pandas as pd\n",
    "\n",
    "def reindex_dataframe(df):\n",
    "    new_index = pd.RangeIndex(start=1, step=2, stop=2*len(df)+1)\n",
    "    df.index = new_index\n",
    "    return df\n",
    "df = pd.DataFrame({'A': [1, 2, 3], 'B': [4, 5, 6], 'C': [7, 8, 9]})\n",
    "\n",
    "df = reindex_dataframe(df)\n",
    "\n",
    "print(df)\n"
   ]
  },
  {
   "cell_type": "markdown",
   "id": "1e60dd5b",
   "metadata": {},
   "source": [
    "## Q3. You have a Pandas DataFrame df with a column named 'Values'. \n",
    "Write a Python function that\n",
    "iterates over the DataFrame and calculates the sum of the first three values in the 'Values' column. The\n",
    "function should print the sum to the console."
   ]
  },
  {
   "cell_type": "code",
   "execution_count": 4,
   "id": "625f011d",
   "metadata": {},
   "outputs": [
    {
     "name": "stdout",
     "output_type": "stream",
     "text": [
      "Sum of first three values: 60\n"
     ]
    }
   ],
   "source": [
    "import pandas as pd\n",
    "\n",
    "def sum_first_three(df):\n",
    "    # get the first three values in the 'Values' column\n",
    "    values = df['Values'].head(3)\n",
    "    \n",
    "    # calculate the sum of the first three values\n",
    "    total = values.sum()\n",
    "    \n",
    "    # print the sum to the console\n",
    "    print('Sum of first three values:', total)\n",
    "    \n",
    "# create a sample DataFrame\n",
    "df = pd.DataFrame({'Values': [10, 20, 30, 40, 50]})\n",
    "\n",
    "# call the sum_first_three function\n",
    "sum_first_three(df)\n"
   ]
  },
  {
   "cell_type": "markdown",
   "id": "a5f38cbb",
   "metadata": {},
   "source": [
    "## Q4. Given a Pandas DataFrame df with a column 'Text', write a Python function to create a new column 'Word_Count' that contains the number of words in each row of the 'Text' column."
   ]
  },
  {
   "cell_type": "code",
   "execution_count": 5,
   "id": "6fb80520",
   "metadata": {},
   "outputs": [
    {
     "name": "stdout",
     "output_type": "stream",
     "text": [
      "                                Text  Word_Count\n",
      "0                This is a sentence.           4\n",
      "1  Another sentence with more words.           5\n"
     ]
    }
   ],
   "source": [
    "import pandas as pd\n",
    "\n",
    "def add_word_count(df):\n",
    "    # split the 'Text' column by whitespace and count the number of resulting words\n",
    "    word_count = df['Text'].str.split().str.len()\n",
    "    \n",
    "    # add the 'Word_Count' column to the DataFrame\n",
    "    df['Word_Count'] = word_count\n",
    "    \n",
    "    # return the modified DataFrame\n",
    "    return df\n",
    "# create a sample DataFrame\n",
    "df = pd.DataFrame({'Text': ['This is a sentence.', 'Another sentence with more words.']})\n",
    "\n",
    "# add the 'Word_Count' column\n",
    "df = add_word_count(df)\n",
    "\n",
    "# print the modified DataFrame\n",
    "print(df)\n"
   ]
  },
  {
   "cell_type": "markdown",
   "id": "cb0da4f6",
   "metadata": {},
   "source": [
    "## Q5. How are DataFrame.size() and DataFrame.shape() different?"
   ]
  },
  {
   "cell_type": "markdown",
   "id": "653f9e5e",
   "metadata": {},
   "source": [
    "DataFrame.size() and DataFrame.shape() are two different methods in Pandas that return different types of information about a DataFrame:\n",
    "\n",
    "DataFrame.size() returns the total number of elements in the DataFrame, which is the product of the number of rows and columns. It returns an integer value.\n",
    "\n",
    "DataFrame.shape() returns a tuple containing the number of rows and columns in the DataFrame, in that order. It returns a tuple of integers."
   ]
  },
  {
   "cell_type": "code",
   "execution_count": 6,
   "id": "cde4adf3",
   "metadata": {},
   "outputs": [
    {
     "name": "stdout",
     "output_type": "stream",
     "text": [
      "9\n",
      "(3, 3)\n"
     ]
    }
   ],
   "source": [
    "import pandas as pd\n",
    "\n",
    "# create a sample DataFrame\n",
    "df = pd.DataFrame({'A': [1, 2, 3], 'B': [4, 5, 6], 'C': [7, 8, 9]})\n",
    "\n",
    "# print the total number of elements in the DataFrame\n",
    "print(df.size)\n",
    "\n",
    "# print the number of rows and columns in the DataFrame\n",
    "print(df.shape)\n"
   ]
  },
  {
   "cell_type": "markdown",
   "id": "ed0fe15c",
   "metadata": {},
   "source": [
    "## Q6. Which function of pandas do we use to read an excel file?"
   ]
  },
  {
   "cell_type": "code",
   "execution_count": null,
   "id": "c43a476c",
   "metadata": {},
   "outputs": [],
   "source": [
    "import pandas as pd\n",
    "\n",
    "# read an Excel file\n",
    "df = pd.read_excel('file.xlsx')"
   ]
  },
  {
   "cell_type": "markdown",
   "id": "8ab82245",
   "metadata": {},
   "source": [
    "## Q7. You have a Pandas DataFrame df that contains a column named 'Email' that contains email addresses in the format 'username@domain.com'. Write a Python function that creates a new column  'Username' in df that contains only the username part of each email address.\n",
    "\n",
    "\n",
    "The username is the part of the email address that appears before the '@' symbol. For example, if the\n",
    "email address is 'john.doe@example.com', the 'Username' column should contain 'john.doe'. Your\n",
    "function should extract the username from each email address and store it in the new 'Username'\n",
    "column."
   ]
  },
  {
   "cell_type": "code",
   "execution_count": 8,
   "id": "4f4d9147",
   "metadata": {},
   "outputs": [
    {
     "name": "stdout",
     "output_type": "stream",
     "text": [
      "                  Email  Username\n",
      "0  john.doe@example.com  john.doe\n",
      "1  jane.doe@example.com  jane.doe\n"
     ]
    }
   ],
   "source": [
    "import pandas as pd\n",
    "\n",
    "def extract_username(df):\n",
    "    # extract the username from each email address using the str.split() function\n",
    "    usernames = df['Email'].str.split('@').str[0]\n",
    "    \n",
    "    # add the 'Username' column to the DataFrame\n",
    "    df['Username'] = usernames\n",
    "    \n",
    "    # return the modified DataFrame\n",
    "    return df\n",
    "# create a sample DataFrame\n",
    "df = pd.DataFrame({'Email': ['john.doe@example.com', 'jane.doe@example.com']})\n",
    "\n",
    "# extract the usernames\n",
    "df = extract_username(df)\n",
    "\n",
    "# print the modified DataFrame\n",
    "print(df)\n"
   ]
  },
  {
   "cell_type": "code",
   "execution_count": 13,
   "id": "4fe76e43",
   "metadata": {},
   "outputs": [
    {
     "data": {
      "text/plain": [
       "0    john.doe\n",
       "1    jane.doe\n",
       "Name: Email, dtype: object"
      ]
     },
     "execution_count": 13,
     "metadata": {},
     "output_type": "execute_result"
    }
   ],
   "source": [
    "df['Email'].str.split(\"@\").str[0]"
   ]
  },
  {
   "cell_type": "markdown",
   "id": "3089f470",
   "metadata": {},
   "source": [
    "## Q8. You have a Pandas DataFrame df with columns 'A', 'B', and 'C'. Write a Python function that selects all rows where the value in column 'A' is greater than 5 and the value in column 'B' is less than 10. The function should return a new DataFrame that contains only the selected rows."
   ]
  },
  {
   "cell_type": "code",
   "execution_count": 15,
   "id": "5fd5738c",
   "metadata": {},
   "outputs": [
    {
     "name": "stdout",
     "output_type": "stream",
     "text": [
      "   A  B  C\n",
      "1  8  2  7\n",
      "2  6  9  4\n",
      "4  9  1  2\n"
     ]
    }
   ],
   "source": [
    "import pandas as pd\n",
    "\n",
    "def select_rows(df):\n",
    "    # select rows where A > 5 and B < 10 using boolean indexing\n",
    "    selected_rows = df[(df['A'] > 5) & (df['B'] < 10)]\n",
    "    \n",
    "    # return the selected rows as a new DataFrame\n",
    "    return selected_rows\n",
    "\n",
    "# create a sample DataFrame\n",
    "df = pd.DataFrame({'A': [3,8,6,2,9], 'B': [5,2,9,3,1], 'C': [1,7,4,5,2]})\n",
    "\n",
    "# select the rows where A > 5 and B < 10\n",
    "selected_df = select_rows(df)\n",
    "\n",
    "# print the selected DataFrame\n",
    "print(selected_df)\n",
    "\n"
   ]
  },
  {
   "cell_type": "markdown",
   "id": "763d9e64",
   "metadata": {},
   "source": [
    "## Q9. Given a Pandas DataFrame df with a column 'Values', write a Python function to calculate the mean, median, and standard deviation of the values in the 'Values' column."
   ]
  },
  {
   "cell_type": "code",
   "execution_count": 18,
   "id": "0ea6f519",
   "metadata": {},
   "outputs": [
    {
     "name": "stdout",
     "output_type": "stream",
     "text": [
      "{'mean': 4.428571428571429, 'median': 3.5, 'std': 2.9013070188420973}\n"
     ]
    }
   ],
   "source": [
    "import pandas as pd\n",
    "\n",
    "def calculate_stats(df):\n",
    "    # calculate mean, median, and standard deviation of the 'Values' column\n",
    "    mean = df['Values'].mean()\n",
    "    median = df['Values'].median()\n",
    "    std = df['Values'].std()\n",
    "    \n",
    "    # return the calculated statistics as a dictionary\n",
    "    return {'mean': mean, 'median': median, 'std': std}\n",
    "df = pd.DataFrame({'Values': [3,8,6,2,9,2,9,3,1,1,7,4,5,2]})\n",
    "\n",
    "stats = calculate_stats(df)\n",
    "print(stats)\n"
   ]
  },
  {
   "cell_type": "markdown",
   "id": "8534d44d",
   "metadata": {},
   "source": [
    "## Q10. Given a Pandas DataFrame df with a column 'Sales' and a column 'Date', write a Python function to create a new column 'MovingAverage' that contains the moving average of the sales for the past 7 days for each row in the DataFrame. The moving average should be calculated using a window of size 7 and should include the current day."
   ]
  },
  {
   "cell_type": "code",
   "execution_count": null,
   "id": "e15ffe98",
   "metadata": {},
   "outputs": [],
   "source": [
    "import pandas as pd\n",
    "\n",
    "def add_moving_average_column(df):\n",
    "    # create a new column 'MovingAverage' and fill it with NaNs\n",
    "    df['MovingAverage'] = pd.Series(dtype='float64')\n",
    "\n",
    "    # calculate the moving average of the 'Sales' column for the past 7 days\n",
    "    for i in range(len(df)):\n",
    "        if i < 6:\n",
    "            df.loc[i, 'MovingAverage'] = df.loc[i, 'Sales']\n",
    "        else:\n",
    "            df.loc[i, 'MovingAverage'] = df.loc[i-6:i, 'Sales'].mean()\n",
    "\n",
    "    return df\n",
    "\n",
    "df = add_moving_average_column(df)\n",
    "print(df)\n"
   ]
  },
  {
   "cell_type": "markdown",
   "id": "4e5ee543",
   "metadata": {},
   "source": [
    "## Q11. You have a Pandas DataFrame df with a column 'Date'. Write a Python function that creates a new column 'Weekday' in the DataFrame. The 'Weekday' column should contain the weekday name (e.g. Monday, Tuesday) corresponding to each date in the 'Date' column."
   ]
  },
  {
   "cell_type": "code",
   "execution_count": 23,
   "id": "62afec3f",
   "metadata": {},
   "outputs": [
    {
     "name": "stdout",
     "output_type": "stream",
     "text": [
      "        Date    Weekday\n",
      "0 2023-01-01     Sunday\n",
      "1 2023-01-02     Monday\n",
      "2 2023-01-03    Tuesday\n",
      "3 2023-01-04  Wednesday\n",
      "4 2023-01-05   Thursday\n"
     ]
    }
   ],
   "source": [
    "import pandas as pd\n",
    "\n",
    "def add_weekday_column(df):\n",
    "    # convert the 'Date' column to a pandas datetime object\n",
    "    df['Date'] = pd.to_datetime(df['Date'])\n",
    "    \n",
    "    # create a new column 'Weekday' containing the weekday name\n",
    "    df['Weekday'] = df['Date'].dt.day_name()\n",
    "\n",
    "    return df\n",
    "\n",
    "df=pd.DataFrame({\"Date\":['2023-01-01','2023-01-02','2023-01-03','2023-01-04','2023-01-05']})\n",
    "df = add_weekday_column(df)\n",
    "print(df)\n"
   ]
  },
  {
   "cell_type": "markdown",
   "id": "56dcb0e2",
   "metadata": {},
   "source": [
    "## Q12. Given a Pandas DataFrame df with a column 'Date' that contains timestamps, write a Python function to select all rows where the date is between '2023-01-01' and '2023-01-31'."
   ]
  },
  {
   "cell_type": "code",
   "execution_count": 24,
   "id": "19cfdb01",
   "metadata": {},
   "outputs": [
    {
     "name": "stdout",
     "output_type": "stream",
     "text": [
      "        Date    Weekday\n",
      "0 2023-01-01     Sunday\n",
      "1 2023-01-02     Monday\n",
      "2 2023-01-03    Tuesday\n",
      "3 2023-01-04  Wednesday\n",
      "4 2023-01-05   Thursday\n"
     ]
    }
   ],
   "source": [
    "import pandas as pd\n",
    "\n",
    "def select_rows_by_date(df):\n",
    "    # convert the 'Date' column to a pandas datetime object\n",
    "    df['Date'] = pd.to_datetime(df['Date'])\n",
    "\n",
    "    # select rows where the date is between '2023-01-01' and '2023-01-31'\n",
    "    selected_rows = df[(df['Date'] >= '2023-01-01') & (df['Date'] <= '2023-01-31')]\n",
    "\n",
    "    return selected_rows\n",
    "\n",
    "selected_rows = select_rows_by_date(df)\n",
    "print(selected_rows)\n"
   ]
  },
  {
   "cell_type": "markdown",
   "id": "f26ef90b",
   "metadata": {},
   "source": [
    "## Q13. To use the basic functions of pandas, what is the first and foremost necessary library that needs to be imported?"
   ]
  },
  {
   "cell_type": "markdown",
   "id": "9692b3af",
   "metadata": {},
   "source": [
    "The first and foremost library that needs to be imported to use the basic functions of pandas is pandas itself. This is usually done by importing pandas with the alias pd, like so:"
   ]
  },
  {
   "cell_type": "code",
   "execution_count": null,
   "id": "e3c37175",
   "metadata": {},
   "outputs": [],
   "source": []
  }
 ],
 "metadata": {
  "kernelspec": {
   "display_name": "Python 3 (ipykernel)",
   "language": "python",
   "name": "python3"
  },
  "language_info": {
   "codemirror_mode": {
    "name": "ipython",
    "version": 3
   },
   "file_extension": ".py",
   "mimetype": "text/x-python",
   "name": "python",
   "nbconvert_exporter": "python",
   "pygments_lexer": "ipython3",
   "version": "3.9.7"
  }
 },
 "nbformat": 4,
 "nbformat_minor": 5
}
