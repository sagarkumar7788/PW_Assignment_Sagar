{
 "cells": [
  {
   "cell_type": "markdown",
   "id": "21dc5b6a",
   "metadata": {},
   "source": [
    "### Q1. What is multithreading in python? Why is it used? Name the module used to handle threads in python."
   ]
  },
  {
   "cell_type": "markdown",
   "id": "5ee2da2d",
   "metadata": {},
   "source": [
    "Multithreading is a programming technique that allows a single program to perform multiple tasks concurrently.\n",
    "In Python, multithreading refers to the use of multiple threads of execution within a single program.\n",
    "Each thread represents a separate flow of execution that can run concurrently with other threads in the same program.\n",
    "\n",
    "Multithreading is used in Python to improve the performance of certain types of applications, particularly those\n",
    "that involve I/O operations or other tasks that can be performed independently. By dividing a program into\n",
    "multiple threads, it is possible to take advantage of the parallel processing capabilities of modern CPUs,\n",
    "which can significantly reduce the amount of time required to complete a given task.\n",
    "\n",
    "The module used to handle threads in Python is called \"threading\". It provides a simple and intuitive interface\n",
    "for creating and managing threads, and includes a number of useful features such as synchronization primitives\n",
    "(e.g., locks, semaphores) and thread-local storage. With the threading module, it is easy to write Python programs\n",
    "that can take full advantage of the benefits of multithreading."
   ]
  },
  {
   "cell_type": "markdown",
   "id": "8bf6043d",
   "metadata": {},
   "source": [
    "### Q2. Why threading module used? Write the use of the following functions:\n",
    "\n",
    "    1. activeCount()\n",
    "    2. currentThread()\n",
    "    3. enumerate()\n"
   ]
  },
  {
   "cell_type": "markdown",
   "id": "d63dabe0",
   "metadata": {},
   "source": [
    "The threading module in Python is used for creating and managing threads in a program. It provides an easy-to-use\n",
    "interface for starting new threads, synchronizing their operations, and handling thread-specific data. The module\n",
    "includes a number of useful functions and classes for working with threads, including:\n",
    "\n",
    "activeCount(): This function returns the number of currently active threads in the current process. It is useful\n",
    "    for monitoring the number of threads in a program and ensuring that the program is not creating too many threads,\n",
    "    which can lead to decreased performance.\n",
    "\n",
    "currentThread(): This function returns a reference to the current thread object. It is useful for obtaining information\n",
    "    about the current thread, such as its name or ID, and for passing that information to other threads or functions.\n",
    "\n",
    "enumerate(): This function returns a list of all thread objects that are currently active in the current process.\n",
    "    It is useful for obtaining information about all of the threads in a program and for iterating over them to perform\n",
    "    various operations, such as terminating or joining them. The returned list includes daemon threads, which can \n",
    "    be useful for monitoring the state of background tasks in a program."
   ]
  },
  {
   "cell_type": "code",
   "execution_count": 1,
   "id": "3ea8fc16",
   "metadata": {},
   "outputs": [
    {
     "name": "stdout",
     "output_type": "stream",
     "text": [
      "Hello from thread Thread-0\n",
      "Hello from thread Thread-1\n",
      "Hello from thread Thread-2\n",
      "Hello from thread Thread-3Hello from thread\n",
      "Active Threads: Thread-4 7\n",
      "\n"
     ]
    }
   ],
   "source": [
    "#activeCount(): This method returns the number of Thread objects that are currently active in the \n",
    "#current thread's ThreadGroup.\n",
    "import threading\n",
    "\n",
    "def my_function():\n",
    "    print(\"Hello from thread\", threading.currentThread().getName())\n",
    "\n",
    "threads = []\n",
    "for i in range(5):\n",
    "    thread = threading.Thread(target=my_function, name=\"Thread-\"+str(i))\n",
    "    thread.start()\n",
    "    threads.append(thread)\n",
    "\n",
    "print(\"Active Threads:\", threading.activeCount())"
   ]
  },
  {
   "cell_type": "code",
   "execution_count": 2,
   "id": "e9e1a052",
   "metadata": {},
   "outputs": [
    {
     "name": "stdout",
     "output_type": "stream",
     "text": [
      "Hello from thread Thread-8\n",
      "Current Thread: MainThread\n"
     ]
    }
   ],
   "source": [
    "#currentThread(): This method returns a reference to the currently executing thread object.\n",
    "import threading\n",
    "\n",
    "def my_function():\n",
    "    print(\"Hello from thread\", threading.currentThread().getName())\n",
    "\n",
    "thread = threading.Thread(target=my_function)\n",
    "thread.start()\n",
    "\n",
    "print(\"Current Thread:\", threading.currentThread().getName())"
   ]
  },
  {
   "cell_type": "code",
   "execution_count": 3,
   "id": "41ca18aa",
   "metadata": {},
   "outputs": [
    {
     "name": "stdout",
     "output_type": "stream",
     "text": [
      "Hello from threadHello from thread Thread-1 Thread-0\n",
      "\n",
      "Hello from thread Thread-2\n",
      "Hello from thread Hello from thread Thread-4\n",
      "Thread-3\n",
      "Enumerating Threads:\n",
      "MainThread\n",
      "Thread-6\n",
      "Thread-7\n",
      "Thread-5\n",
      "IPythonHistorySavingThread\n",
      "Thread-4\n"
     ]
    }
   ],
   "source": [
    "#enumerate(): This method returns a list of all Thread objects that are currently active in the current thread's \n",
    "#ThreadGroup.\n",
    "import threading\n",
    "\n",
    "def my_function():\n",
    "    print(\"Hello from thread\", threading.currentThread().getName())\n",
    "\n",
    "threads = []\n",
    "for i in range(5):\n",
    "    thread = threading.Thread(target=my_function, name=\"Thread-\"+str(i))\n",
    "    thread.start()\n",
    "    threads.append(thread)\n",
    "\n",
    "print(\"Enumerating Threads:\")\n",
    "for thread in threading.enumerate():\n",
    "    print(thread.getName())"
   ]
  },
  {
   "cell_type": "markdown",
   "id": "b147af35",
   "metadata": {},
   "source": [
    "## Q3. Explain the following functions:"
   ]
  },
  {
   "cell_type": "markdown",
   "id": "762d6f02",
   "metadata": {},
   "source": [
    "1. run()\n",
    "\n",
    "2. start()\n",
    "\n",
    "3. join()\n",
    "\n",
    "4. isAlive()"
   ]
  },
  {
   "cell_type": "code",
   "execution_count": 7,
   "id": "41bf49f8",
   "metadata": {},
   "outputs": [
    {
     "name": "stdout",
     "output_type": "stream",
     "text": [
      "Thread Thread-11 is running\n"
     ]
    }
   ],
   "source": [
    "#run(): This method is called when a thread is started using the start() method. \n",
    " #   It contains the code that is executed in the thread.\n",
    "    \n",
    "import threading\n",
    "\n",
    "class MyThread(threading.Thread):\n",
    "    def run(self):\n",
    "        print(\"Thread\", self.getName(), \"is running\")\n",
    "\n",
    "thread = MyThread()\n",
    "thread.start()\n"
   ]
  },
  {
   "cell_type": "code",
   "execution_count": 8,
   "id": "60b4d924",
   "metadata": {},
   "outputs": [
    {
     "name": "stdout",
     "output_type": "stream",
     "text": [
      "ThreadMain thread is running\n",
      " Thread-12 is running\n"
     ]
    }
   ],
   "source": [
    "#start(): This method starts a new thread by calling the run() method in a separate thread of control.\n",
    "#This method returns immediately, and the child thread begins to execute.\n",
    "import threading\n",
    "\n",
    "def my_function():\n",
    "    print(\"Thread\", threading.currentThread().getName(), \"is running\")\n",
    "\n",
    "thread = threading.Thread(target=my_function)\n",
    "thread.start()\n",
    "\n",
    "print(\"Main thread is running\")\n"
   ]
  },
  {
   "cell_type": "code",
   "execution_count": 9,
   "id": "342d21c0",
   "metadata": {},
   "outputs": [
    {
     "name": "stdout",
     "output_type": "stream",
     "text": [
      "ThreadWaiting for thread to finish\n",
      " Thread-13 is running\n",
      "Thread Thread-13 is exiting\n",
      "Thread has finished\n"
     ]
    }
   ],
   "source": [
    "#join(): This method blocks the calling thread until the thread whose join() method is called completes its execution.\n",
    "\n",
    "import threading\n",
    "import time\n",
    "\n",
    "def my_function():\n",
    "    print(\"Thread\", threading.currentThread().getName(), \"is running\")\n",
    "    time.sleep(3)\n",
    "    print(\"Thread\", threading.currentThread().getName(), \"is exiting\")\n",
    "\n",
    "thread = threading.Thread(target=my_function)\n",
    "thread.start()\n",
    "\n",
    "print(\"Waiting for thread to finish\")\n",
    "thread.join()\n",
    "print(\"Thread has finished\")"
   ]
  },
  {
   "cell_type": "code",
   "execution_count": 10,
   "id": "48b5d9e0",
   "metadata": {},
   "outputs": [
    {
     "name": "stdout",
     "output_type": "stream",
     "text": [
      "Starting my_function...\n",
      "my_thread is still running...\n",
      "my_thread is still running...\n",
      "my_thread is still running...\n",
      "Ending my_function...\n",
      "my_thread has finished.\n"
     ]
    }
   ],
   "source": [
    "#The is_alive() method in Python threads is used to check if a thread is currently running or not. \n",
    "#It returns True if the thread is still running and False otherwise.\n",
    "import threading\n",
    "import time\n",
    "\n",
    "def my_function():\n",
    "    print(\"Starting my_function...\")\n",
    "    time.sleep(3)\n",
    "    print(\"Ending my_function...\")\n",
    "\n",
    "my_thread = threading.Thread(target=my_function)\n",
    "my_thread.start()\n",
    "\n",
    "while my_thread.is_alive():\n",
    "    print(\"my_thread is still running...\")\n",
    "    time.sleep(1)\n",
    "\n",
    "print(\"my_thread has finished.\")"
   ]
  },
  {
   "cell_type": "markdown",
   "id": "52c1b299",
   "metadata": {},
   "source": [
    "## Q4. Write a python program to create two threads. Thread one must print the list of squares and thread two must print the list of cubes."
   ]
  },
  {
   "cell_type": "code",
   "execution_count": 12,
   "id": "2ec2572b",
   "metadata": {},
   "outputs": [
    {
     "name": "stdout",
     "output_type": "stream",
     "text": [
      "1\n",
      "4\n",
      "9\n",
      "16\n",
      "25\n",
      "1\n",
      "8\n",
      "27\n",
      "64\n",
      "125\n"
     ]
    }
   ],
   "source": [
    "import threading\n",
    "\n",
    "def print_squares(n):\n",
    "    for i in range(1, n+1):\n",
    "        print(i**2)\n",
    "\n",
    "def print_cubes(n):\n",
    "    for i in range(1, n+1):\n",
    "        print(i**3)\n",
    "\n",
    "n = 5\n",
    "\n",
    "t1 = threading.Thread(target=print_squares, args=(n,))\n",
    "t2 = threading.Thread(target=print_cubes, args=(n,))\n",
    "\n",
    "t1.start()\n",
    "t2.start()\n"
   ]
  },
  {
   "cell_type": "markdown",
   "id": "e4adfbe6",
   "metadata": {},
   "source": [
    "## Q5. State advantages and disadvantages of multithreading."
   ]
  },
  {
   "cell_type": "markdown",
   "id": "43639da2",
   "metadata": {},
   "source": [
    "Multithreading in Python shares many of the same advantages and disadvantages as multithreading in other programming languages, but there are also some specific considerations when using threads in Python. Here are some of the main advantages and disadvantages of multithreading in Python:\n",
    "\n",
    "Advantages:\n",
    "\n",
    "Improved performance: Multithreading can significantly improve the performance of a Python program by allowing multiple tasks to be executed concurrently, which is particularly useful for I/O-bound tasks.\n",
    "\n",
    "Responsiveness: Multithreading can help keep a Python program responsive by allowing the user interface to remain active while long-running tasks are executed in the background.\n",
    "\n",
    "Simplified design: Some complex problems can be more easily solved using multithreading in Python, as it allows for a more modular and easier to understand design.\n",
    "\n",
    "Compatibility with other Python libraries: Many popular Python libraries are designed to work well with multithreading, such as the threading and concurrent.futures modules.\n",
    "\n",
    "Disadvantages:\n",
    "\n",
    "Global Interpreter Lock (GIL): The GIL in Python means that only one thread can execute Python bytecode at a time, which can limit the performance benefits of multithreading in CPU-bound tasks.\n",
    "\n",
    "Complexity: Multithreading can significantly increase the complexity of a Python program, making it more difficult to develop and debug.\n",
    "\n",
    "Synchronization and coordination: When multiple threads are accessing shared resources in Python, it can be challenging to ensure proper synchronization and coordination, which can lead to errors such as deadlocks and race conditions.\n",
    "\n",
    "Debugging: Debugging multithreaded Python programs can be more challenging, as errors can be difficult to reproduce and diagnose.\n",
    "\n",
    "Overall, multithreading can be a powerful tool for improving the performance and efficiency of a Python program, but it should be used carefully and only when it provides a clear benefit over a single-threaded approach, particularly in the presence of the GIL."
   ]
  },
  {
   "cell_type": "markdown",
   "id": "046ab09c",
   "metadata": {},
   "source": [
    "## Q6. Explain deadlocks and race conditions."
   ]
  },
  {
   "cell_type": "markdown",
   "id": "0c9b752c",
   "metadata": {},
   "source": [
    "Deadlocks:\n",
    "In Python, deadlocks can occur when two or more threads try to acquire the same lock or resource simultaneously. If each thread is holding a resource that the other thread needs, a circular wait can occur, leading to a deadlock. Python provides several tools for avoiding deadlocks, such as the threading module's RLock (reentrant lock) and Semaphore classes, which can help ensure that threads release acquired resources when they're finished using them. However, detecting and debugging deadlocks in Python can be challenging, particularly in complex programs.\n",
    "\n",
    "\n",
    "Race conditions:\n",
    "In Python, race conditions can occur when multiple threads access and modify shared variables or data structures simultaneously, leading to unpredictable behavior. To prevent race conditions, Python provides several synchronization mechanisms, such as Lock and RLock, which can be used to ensure that only one thread can access a shared resource at a time. Additionally, the concurrent.futures module provides a ThreadPoolExecutor and ProcessPoolExecutor that can be used to parallelize Python code in a thread-safe and efficient manner, reducing the likelihood of race conditions. However, it's important to note that even with these mechanisms in place, race conditions can still occur if the synchronization is not implemented correctly."
   ]
  },
  {
   "cell_type": "code",
   "execution_count": null,
   "id": "f1d231ef",
   "metadata": {},
   "outputs": [],
   "source": []
  }
 ],
 "metadata": {
  "kernelspec": {
   "display_name": "Python 3 (ipykernel)",
   "language": "python",
   "name": "python3"
  },
  "language_info": {
   "codemirror_mode": {
    "name": "ipython",
    "version": 3
   },
   "file_extension": ".py",
   "mimetype": "text/x-python",
   "name": "python",
   "nbconvert_exporter": "python",
   "pygments_lexer": "ipython3",
   "version": "3.9.7"
  }
 },
 "nbformat": 4,
 "nbformat_minor": 5
}
