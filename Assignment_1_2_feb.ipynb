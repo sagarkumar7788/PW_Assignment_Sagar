{
 "cells": [
  {
   "cell_type": "markdown",
   "id": "9ab4fd06",
   "metadata": {},
   "source": [
    "### Q2. Write a python program to print the sum and product of the first 10 natural numbers using for and while loop."
   ]
  },
  {
   "cell_type": "code",
   "execution_count": 4,
   "id": "ac1df852",
   "metadata": {},
   "outputs": [
    {
     "name": "stdout",
     "output_type": "stream",
     "text": [
      "sum is 55,product is 3628800\n"
     ]
    }
   ],
   "source": [
    "sum = 0\n",
    "prod= 1\n",
    "for i in range(1,11):\n",
    "    sum=sum+i\n",
    "    prod=prod*i\n",
    "    \n",
    "print(f\"sum is {sum} , product is {prod}\")\n",
    "    "
   ]
  },
  {
   "cell_type": "code",
   "execution_count": 5,
   "id": "22f9544d",
   "metadata": {},
   "outputs": [
    {
     "name": "stdout",
     "output_type": "stream",
     "text": [
      "sum is 55 , product is 3628800\n"
     ]
    }
   ],
   "source": [
    "sum = 0\n",
    "prod= 1\n",
    "i=1\n",
    "while i<=10:\n",
    "    sum=sum+i\n",
    "    prod=prod*i\n",
    "    i=i+1\n",
    "    \n",
    "print(f\"sum is {sum} , product is {prod}\")\n",
    "\n",
    "    "
   ]
  },
  {
   "cell_type": "markdown",
   "id": "f931acfb",
   "metadata": {},
   "source": [
    "### Q3. Create a python program to compute the electricity bill for a household.\n",
    "The per-unit charges in rupees are as follows: For the first 100 units, the user will be charged Rs. 4.5 per\n",
    "unit, for the next 100 units, the user will be charged Rs. 6 per unit, and for the next 100 units, the user will\n",
    "be charged Rs. 10 per unit, After 300 units and above the user will be charged Rs. 20 per unit.\n",
    "You are required to take the units of electricity consumed in a month from the user as input.\n",
    "Your program must pass this test case: when the unit of electricity consumed by the user in a month is\n",
    "310, the total electricity bill should be 2250."
   ]
  },
  {
   "cell_type": "code",
   "execution_count": 25,
   "id": "5f5d5fa6",
   "metadata": {},
   "outputs": [
    {
     "name": "stdout",
     "output_type": "stream",
     "text": [
      "Please enter the unit : 310\n",
      "2250.0\n"
     ]
    }
   ],
   "source": [
    "units = int(input(\"Please enter the unit : \"))\n",
    "\n",
    "if (units <= 100):\n",
    "    print(units * 4.5)\n",
    "elif (units <= 200):\n",
    "    print((100 * 4.5) + (units - 100) * 6)\n",
    "     \n",
    "elif (units <= 300): \n",
    "    print((100 * 4.5) +(100 * 6) +(units - 200) * 10)\n",
    "     \n",
    "elif (units > 300):   \n",
    "    print((100 * 4.5) +(100 * 6) +(100 * 10) +(units - 300) * 20)\n",
    "                \n",
    "                \n",
    "                "
   ]
  },
  {
   "cell_type": "markdown",
   "id": "c94af28b",
   "metadata": {},
   "source": [
    "### Q4.Create a list of numbers from 1 to 100. Use for loop and while loop to calculate the cube of each\n",
    "number and if the cube of that number is divisible by 4 or 5 then append that number in a list and print\n",
    "that list."
   ]
  },
  {
   "cell_type": "code",
   "execution_count": 30,
   "id": "8c6ff103",
   "metadata": {},
   "outputs": [
    {
     "name": "stdout",
     "output_type": "stream",
     "text": [
      "[1, 8, 27, 64, 125, 216, 343, 512, 729, 1000, 1331, 1728, 2197, 2744, 3375, 4096, 4913, 5832, 6859, 8000, 9261, 10648, 12167, 13824, 15625, 17576, 19683, 21952, 24389, 27000, 29791, 32768, 35937, 39304, 42875, 46656, 50653, 54872, 59319, 64000, 68921, 74088, 79507, 85184, 91125, 97336, 103823, 110592, 117649, 125000, 132651, 140608, 148877, 157464, 166375, 175616, 185193, 195112, 205379, 216000, 226981, 238328, 250047, 262144, 274625, 287496, 300763, 314432, 328509, 343000, 357911, 373248, 389017, 405224, 421875, 438976, 456533, 474552, 493039, 512000, 531441, 551368, 571787, 592704, 614125, 636056, 658503, 681472, 704969, 729000, 753571, 778688, 804357, 830584, 857375, 884736, 912673, 941192, 970299, 1000000]\n",
      "\n",
      "\n",
      "[2, 4, 5, 6, 8, 10, 12, 14, 15, 16, 18, 20, 22, 24, 25, 26, 28, 30, 32, 34, 35, 36, 38, 40, 42, 44, 45, 46, 48, 50, 52, 54, 55, 56, 58, 60, 62, 64, 65, 66, 68, 70, 72, 74, 75, 76, 78, 80, 82, 84, 85, 86, 88, 90, 92, 94, 95, 96, 98, 100]\n"
     ]
    }
   ],
   "source": [
    "l_cube=[]\n",
    "l_div_number=[]\n",
    "for i in range(1,101):\n",
    "    j=i**3\n",
    "    l_cube.append(j)\n",
    "    if j%4==0 or j%5==0:\n",
    "        l_div_number.append(i)\n",
    "        \n",
    "print(l_cube)\n",
    "print(\"\\n\")\n",
    "print(l_div_number)"
   ]
  },
  {
   "cell_type": "code",
   "execution_count": 34,
   "id": "6ffd67bd",
   "metadata": {},
   "outputs": [
    {
     "name": "stdout",
     "output_type": "stream",
     "text": [
      "[1, 8, 27, 64, 125, 216, 343, 512, 729, 1000, 1331, 1728, 2197, 2744, 3375, 4096, 4913, 5832, 6859, 8000, 9261, 10648, 12167, 13824, 15625, 17576, 19683, 21952, 24389, 27000, 29791, 32768, 35937, 39304, 42875, 46656, 50653, 54872, 59319, 64000, 68921, 74088, 79507, 85184, 91125, 97336, 103823, 110592, 117649, 125000, 132651, 140608, 148877, 157464, 166375, 175616, 185193, 195112, 205379, 216000, 226981, 238328, 250047, 262144, 274625, 287496, 300763, 314432, 328509, 343000, 357911, 373248, 389017, 405224, 421875, 438976, 456533, 474552, 493039, 512000, 531441, 551368, 571787, 592704, 614125, 636056, 658503, 681472, 704969, 729000, 753571, 778688, 804357, 830584, 857375, 884736, 912673, 941192, 970299, 1000000]\n",
      "\n",
      "\n",
      "[2, 4, 5, 6, 8, 10, 12, 14, 15, 16, 18, 20, 22, 24, 25, 26, 28, 30, 32, 34, 35, 36, 38, 40, 42, 44, 45, 46, 48, 50, 52, 54, 55, 56, 58, 60, 62, 64, 65, 66, 68, 70, 72, 74, 75, 76, 78, 80, 82, 84, 85, 86, 88, 90, 92, 94, 95, 96, 98, 100]\n"
     ]
    }
   ],
   "source": [
    "i=1\n",
    "l_cube=[]\n",
    "l_div_number=[]\n",
    "while i<=100:\n",
    "    j=i**3\n",
    "    l_cube.append(j)\n",
    "    if j%4==0 or j%5==0:\n",
    "        l_div_number.append(i)\n",
    "    i+=1\n",
    "print(l_cube)\n",
    "print(\"\\n\")\n",
    "print(l_div_number)"
   ]
  },
  {
   "cell_type": "markdown",
   "id": "7e197c08",
   "metadata": {},
   "source": [
    "### Q5.Write a program to filter count vowels in the below-given string.\n",
    "string = \"I want to become a data scientist\""
   ]
  },
  {
   "cell_type": "code",
   "execution_count": 39,
   "id": "9d970d22",
   "metadata": {},
   "outputs": [
    {
     "name": "stdout",
     "output_type": "stream",
     "text": [
      "{'a': 4, 'e': 3, 'i': 3, 'o': 2, 'u': 0}\n"
     ]
    }
   ],
   "source": [
    "strings = \"I want to become a data scientist\"\n",
    "vowels=\"aeiou\"\n",
    "string = strings.casefold()\n",
    "count = {}.fromkeys(vowels, 0)\n",
    "\n",
    "for character in string:\n",
    "\n",
    "        if character in count:\n",
    "\n",
    "            count[character] += 1\n",
    "print(count)"
   ]
  },
  {
   "cell_type": "code",
   "execution_count": 37,
   "id": "80bf6f80",
   "metadata": {},
   "outputs": [],
   "source": []
  },
  {
   "cell_type": "code",
   "execution_count": null,
   "id": "e526c3a4",
   "metadata": {},
   "outputs": [],
   "source": []
  },
  {
   "cell_type": "code",
   "execution_count": null,
   "id": "2b7395ed",
   "metadata": {},
   "outputs": [],
   "source": []
  }
 ],
 "metadata": {
  "kernelspec": {
   "display_name": "Python 3 (ipykernel)",
   "language": "python",
   "name": "python3"
  },
  "language_info": {
   "codemirror_mode": {
    "name": "ipython",
    "version": 3
   },
   "file_extension": ".py",
   "mimetype": "text/x-python",
   "name": "python",
   "nbconvert_exporter": "python",
   "pygments_lexer": "ipython3",
   "version": "3.9.7"
  }
 },
 "nbformat": 4,
 "nbformat_minor": 5
}
