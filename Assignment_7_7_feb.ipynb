{
 "cells": [
  {
   "cell_type": "markdown",
   "id": "86f92e11",
   "metadata": {},
   "source": [
    "#### Q1. You are writing code for a company. The requirement of the company is that you create a pythonfunction that will check whether the password entered by the user is correct or not. The function shouldtake the password as input and return the string “Valid Password” if the entered password follows thebelow-given password guidelines else it should return “Invalid Password”.\n",
    "Note: 1. The Password should contain at least two uppercase letters and at least two lowercase letters.\n",
    "\n",
    "\n",
    "2. The Password should contain at least a number and three special characters.\n",
    "\n",
    "\n",
    "3. The length of the password should be 10 characters long."
   ]
  },
  {
   "cell_type": "code",
   "execution_count": 30,
   "id": "955f8f32",
   "metadata": {},
   "outputs": [],
   "source": [
    "import re\n",
    "\n",
    "def check_password(password):\n",
    "    # Check length\n",
    "    if len(password) < 10:\n",
    "        print(\"Check length\")\n",
    "        return \"Invalid Password\"\n",
    "    \n",
    "    \n",
    "    # Check uppercase letters\n",
    "    if len(re.findall(r'[A-Z]', password)) < 2:\n",
    "        print(\"Please Check uppercase letters\")\n",
    "        return \"Invalid Password\"\n",
    "    \n",
    "    # Check lowercase letters\n",
    "    if len(re.findall(r'[a-z]', password)) < 2:\n",
    "        print(\"Please Check lowercase letters\")\n",
    "        return \"Invalid Password\"\n",
    "    \n",
    "    # Check numbers\n",
    "    if len(re.findall(r'\\d', password)) < 1:\n",
    "        print(\"Please Check numbers\")\n",
    "        return \"Invalid Password\"\n",
    "    \n",
    "    # Check special characters\n",
    "    if len(re.findall(r'[^\\w\\s]', password)) < 3:\n",
    "        print(\"Please Check special characters\")\n",
    "        return \"Invalid Password\"\n",
    "    \n",
    "    # If all checks pass, return \"Valid Password\"\n",
    "    return \"Valid Password\""
   ]
  },
  {
   "cell_type": "code",
   "execution_count": 33,
   "id": "832739d9",
   "metadata": {},
   "outputs": [
    {
     "name": "stdout",
     "output_type": "stream",
     "text": [
      "Please Enter the password: SKsk85075@@@\n"
     ]
    },
    {
     "data": {
      "text/plain": [
       "'Valid Password'"
      ]
     },
     "execution_count": 33,
     "metadata": {},
     "output_type": "execute_result"
    }
   ],
   "source": [
    "Pass=input(\"Please Enter the password: \")\n",
    "check_password(Pass)"
   ]
  },
  {
   "cell_type": "markdown",
   "id": "2b15ffe2",
   "metadata": {},
   "source": [
    "### Q2.Solve the below-given questions using at least one of the following:\n",
    "1. Lambda functio\n",
    "2. Filter functio\n",
    "3. Zap functio\n",
    "4. List ComprehensioS\n",
    "\n",
    "B Check if the string starts with a particular letterY\n",
    "\n",
    "B Check if the string is numericY\n",
    "\n",
    "B Sort a list of tuples having fruit names and their quantity. [(\"mango\",99),(\"orange\",80), (\"grapes\", 1000)-\n",
    "\n",
    "B Find the squares of numbers from 1 to 10Y\n",
    "\n",
    "B Find the cube root of numbers from 1 to 10Y\n",
    "\n",
    "B Check if a given number is evenY\n",
    "\n",
    "B Filter odd numbers from the given list.\n",
    "[1,2,3,4,5,6,7,8,9,10]\n",
    "\n",
    "B Sort a list of integers into positive and negative integers lists.\n",
    "[1,2,3,4,5,6,-1,-2,-3,-4,-5,0]\n",
    " "
   ]
  },
  {
   "cell_type": "code",
   "execution_count": 38,
   "id": "38951614",
   "metadata": {},
   "outputs": [
    {
     "name": "stdout",
     "output_type": "stream",
     "text": [
      "True\n",
      "['Python']\n"
     ]
    }
   ],
   "source": [
    "# Check if the string starts with a particular letter.\n",
    "\n",
    "# Using lambda function\n",
    "starts_with = lambda x, letter: x.startswith(letter)\n",
    "result1 = starts_with(\"Hello\", \"H\")\n",
    "print(result1)\n",
    "\n",
    "\n",
    "# Using list comprehension\n",
    "strings = [\"Hello\", \"World\", \"Python\"]\n",
    "letter = \"P\"\n",
    "result2 = [s for s in strings if s.startswith(letter)] \n",
    "print(result2)"
   ]
  },
  {
   "cell_type": "code",
   "execution_count": 39,
   "id": "ac17d86c",
   "metadata": {},
   "outputs": [
    {
     "name": "stdout",
     "output_type": "stream",
     "text": [
      "True\n",
      "['123', '456']\n"
     ]
    }
   ],
   "source": [
    "#Check if the string is numeric:\n",
    "\n",
    "# Using lambda function\n",
    "is_numeric = lambda x: x.isnumeric()\n",
    "result1 = is_numeric(\"123\")\n",
    "print(result1)\n",
    "# Using filter function\n",
    "strings = [\"123\", \"abc\", \"456\"]\n",
    "result2 = list(filter(lambda x: x.isnumeric(), strings))\n",
    "print(result2)"
   ]
  },
  {
   "cell_type": "code",
   "execution_count": 37,
   "id": "1375544c",
   "metadata": {},
   "outputs": [
    {
     "name": "stdout",
     "output_type": "stream",
     "text": [
      "[('orange', 80), ('mango', 99), ('grapes', 1000)]\n",
      "[80, 99, 1000]\n"
     ]
    }
   ],
   "source": [
    "#Sort a list of tuples having fruit names and their quantity:\n",
    "\n",
    "# Using lambda function\n",
    "fruits = [(\"mango\",99),(\"orange\",80), (\"grapes\", 1000)]\n",
    "fruits.sort(key=lambda x: x[1])\n",
    "print(fruits)\n",
    "\n",
    "# Using list comprehension\n",
    "fruits = [(\"mango\",99),(\"orange\",80), (\"grapes\", 1000)]\n",
    "sorted_fruits = [fruit for _, fruit in sorted(fruits, key=lambda x: x[1])]\n",
    "print(sorted_fruits)  "
   ]
  },
  {
   "cell_type": "code",
   "execution_count": 40,
   "id": "718bb110",
   "metadata": {},
   "outputs": [
    {
     "name": "stdout",
     "output_type": "stream",
     "text": [
      "[1, 4, 9, 16, 25, 36, 49, 64, 81, 100]\n",
      "[1, 4, 9, 16, 25, 36, 49, 64, 81, 100]\n"
     ]
    }
   ],
   "source": [
    "#Find the squares of numbers from 1 to 10:\n",
    "\n",
    "# Using lambda function\n",
    "squares = list(map(lambda x: x**2, range(1, 11)))\n",
    "print(squares) \n",
    "\n",
    "# Using list comprehension\n",
    "squares = [x**2 for x in range(1, 11)]\n",
    "print(squares) "
   ]
  },
  {
   "cell_type": "code",
   "execution_count": 41,
   "id": "70e72ddf",
   "metadata": {},
   "outputs": [
    {
     "name": "stdout",
     "output_type": "stream",
     "text": [
      "[1.0, 1.2599210498948732, 1.4422495703074083, 1.5874010519681994, 1.7099759466766968, 1.8171205928321397, 1.912931182772389, 2.0, 2.080083823051904, 2.154434690031884]\n",
      "[1.0, 1.2599210498948732, 1.4422495703074083, 1.5874010519681994, 1.7099759466766968, 1.8171205928321397, 1.912931182772389, 2.0, 2.080083823051904, 2.154434690031884]\n"
     ]
    }
   ],
   "source": [
    "#Find the cube root of numbers from 1 to 10:\n",
    "\n",
    "# Using lambda function\n",
    "import math\n",
    "cube_roots = list(map(lambda x: math.pow(x, 1/3), range(1, 11)))\n",
    "print(cube_roots)\n",
    "\n",
    "# Using list comprehension\n",
    "import math\n",
    "cube_roots = [math.pow(x, 1/3) for x in range(1, 11)]\n",
    "print(cube_roots)"
   ]
  },
  {
   "cell_type": "code",
   "execution_count": 42,
   "id": "059eac47",
   "metadata": {},
   "outputs": [
    {
     "name": "stdout",
     "output_type": "stream",
     "text": [
      "True\n",
      "False\n"
     ]
    }
   ],
   "source": [
    "#Check if a given number is even\n",
    "\n",
    "is_even = lambda num: num % 2 == 0\n",
    "print(is_even(4))  \n",
    "print(is_even(5))"
   ]
  },
  {
   "cell_type": "code",
   "execution_count": 49,
   "id": "ef519ca5",
   "metadata": {},
   "outputs": [
    {
     "name": "stdout",
     "output_type": "stream",
     "text": [
      "[1, 3, 5, 7, 9]\n"
     ]
    }
   ],
   "source": [
    "#Filter odd numbers from the given list. [1,2,3,4,5,6,7,8,9,10]\n",
    "lst = [1,2,3,4,5,6,7,8,9,10]\n",
    "odd_nums = list(filter(lambda num: num % 2 != 0, lst))\n",
    "print(odd_nums)  "
   ]
  },
  {
   "cell_type": "code",
   "execution_count": 50,
   "id": "ce1d9586",
   "metadata": {},
   "outputs": [
    {
     "name": "stdout",
     "output_type": "stream",
     "text": [
      "[1, 2, 3, 4, 5, 6]\n",
      "[-1, -2, -3, -4, -5]\n"
     ]
    }
   ],
   "source": [
    "#Sort a list of integers into positive and negative integers lists. [1,2,3,4,5,6,-1,-2,-3,-4,-5,0]\n",
    "\n",
    "lst = [1,2,3,4,5,6,-1,-2,-3,-4,-5,0]\n",
    "pos_nums = list(filter(lambda num: num > 0, lst))\n",
    "neg_nums = list(filter(lambda num: num < 0, lst))\n",
    "print(pos_nums)  \n",
    "print(neg_nums)"
   ]
  },
  {
   "cell_type": "code",
   "execution_count": null,
   "id": "5597f1d2",
   "metadata": {},
   "outputs": [],
   "source": []
  }
 ],
 "metadata": {
  "kernelspec": {
   "display_name": "Python 3 (ipykernel)",
   "language": "python",
   "name": "python3"
  },
  "language_info": {
   "codemirror_mode": {
    "name": "ipython",
    "version": 3
   },
   "file_extension": ".py",
   "mimetype": "text/x-python",
   "name": "python",
   "nbconvert_exporter": "python",
   "pygments_lexer": "ipython3",
   "version": "3.9.7"
  }
 },
 "nbformat": 4,
 "nbformat_minor": 5
}
