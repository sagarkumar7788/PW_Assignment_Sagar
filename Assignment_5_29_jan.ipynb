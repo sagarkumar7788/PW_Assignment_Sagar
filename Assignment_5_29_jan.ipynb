{
 "cells": [
  {
   "cell_type": "markdown",
   "id": "03334f18",
   "metadata": {},
   "source": [
    "### 1. Who developed python programming language?"
   ]
  },
  {
   "cell_type": "markdown",
   "id": "d5ec54d7",
   "metadata": {},
   "source": [
    "Guido van Rossum"
   ]
  },
  {
   "cell_type": "markdown",
   "id": "72bc2d39",
   "metadata": {},
   "source": [
    "### 2.which type of programming does python support ?"
   ]
  },
  {
   "cell_type": "markdown",
   "id": "482e50a6",
   "metadata": {},
   "source": [
    "Python is a multi-paradigm programming language. \n",
    "Object-oriented programming and structured programming are fully supported,\n",
    "and many of their features support functional programming and aspect-oriented programming "
   ]
  },
  {
   "cell_type": "markdown",
   "id": "429d6c6c",
   "metadata": {},
   "source": [
    "### 3.ls Python case sensitive when dealing with identifiers?"
   ]
  },
  {
   "cell_type": "markdown",
   "id": "0d500150",
   "metadata": {},
   "source": [
    "Yes, Python is a case-sensitive language, i.e., it treats uppercase and lowercase characters differently.\n",
    "This applies to identifiers too"
   ]
  },
  {
   "cell_type": "markdown",
   "id": "a421c725",
   "metadata": {},
   "source": [
    "### 4. What is the correct extension of the Python file?"
   ]
  },
  {
   "cell_type": "markdown",
   "id": "61eb5a60",
   "metadata": {},
   "source": [
    ".py"
   ]
  },
  {
   "cell_type": "markdown",
   "id": "2a5dd210",
   "metadata": {},
   "source": [
    "### 5. Is Python code compiled or interpreted?"
   ]
  },
  {
   "cell_type": "markdown",
   "id": "cb0f92c3",
   "metadata": {},
   "source": [
    " interpreted"
   ]
  },
  {
   "cell_type": "markdown",
   "id": "eb817817",
   "metadata": {},
   "source": [
    "### 6. Name a few blocks of code used to define in Python language?"
   ]
  },
  {
   "cell_type": "markdown",
   "id": "04496d00",
   "metadata": {},
   "source": [
    "A module, A function body, and A class definition"
   ]
  },
  {
   "cell_type": "markdown",
   "id": "09056c6b",
   "metadata": {},
   "source": [
    "### 7. State a character used to give single-line comments in Python?"
   ]
  },
  {
   "cell_type": "markdown",
   "id": "d4c48a48",
   "metadata": {},
   "source": [
    "We can write a single-line comment by adding a single # character before any statement or line of code"
   ]
  },
  {
   "cell_type": "markdown",
   "id": "ecffd52d",
   "metadata": {},
   "source": [
    "### 8. Mention functions which can help us to find the version of python that we are currently working on?"
   ]
  },
  {
   "cell_type": "markdown",
   "id": "b8e03ba2",
   "metadata": {},
   "source": [
    "The function sys. version can help us to find the version of python that we are currently working on.\n",
    "It also contains information on the build number and compiler used. For example, 3.5."
   ]
  },
  {
   "cell_type": "markdown",
   "id": "fb5e3bc1",
   "metadata": {},
   "source": [
    "### 9. Python supports the creation of anonymous functions at runtime, using a construct called ?"
   ]
  },
  {
   "cell_type": "markdown",
   "id": "28f99eca",
   "metadata": {},
   "source": [
    " lambda Function"
   ]
  },
  {
   "cell_type": "markdown",
   "id": "83703b3f",
   "metadata": {},
   "source": [
    "### 10. What does pip stand for python?"
   ]
  },
  {
   "cell_type": "markdown",
   "id": "d9880e6c",
   "metadata": {},
   "source": [
    "pip Install Packages"
   ]
  },
  {
   "cell_type": "markdown",
   "id": "11231051",
   "metadata": {},
   "source": [
    "### 11. Mention a few built-in functions in python?"
   ]
  },
  {
   "cell_type": "markdown",
   "id": "1eb92d63",
   "metadata": {},
   "source": [
    "list(), str(), int(), type(),range(), etc"
   ]
  },
  {
   "cell_type": "markdown",
   "id": "4c000c9a",
   "metadata": {},
   "source": [
    "### 12. What is the maximum possible length of an identifier in Python?"
   ]
  },
  {
   "cell_type": "markdown",
   "id": "0317a28c",
   "metadata": {},
   "source": [
    "An identifier can have a maximum length of 79 characters in Python"
   ]
  },
  {
   "cell_type": "markdown",
   "id": "7d2c45fb",
   "metadata": {},
   "source": [
    "### 13. What are the benefits of using Python?"
   ]
  },
  {
   "cell_type": "markdown",
   "id": "57095189",
   "metadata": {},
   "source": [
    "Python programming is powering the global job market because the benefits of Python are clear.\n",
    "Also, Python programming is a general-purpose skill used in almost all fields, including: \n",
    "-Data science\n",
    "-Scientific and mathematical computing\n",
    "-Web development\n",
    "-Finance and trading\n",
    "-System automation and administration\n",
    "-Computer graphics\n",
    "-Basic game development\n",
    "-Security and penetration testing\n",
    "-General and application-specific scripting\n",
    "-Mapping and geography (GIS software)"
   ]
  },
  {
   "cell_type": "markdown",
   "id": "83675a9a",
   "metadata": {},
   "source": [
    "### 14. How is memory managed in Python?"
   ]
  },
  {
   "cell_type": "markdown",
   "id": "f0d40217",
   "metadata": {},
   "source": [
    "In Python memory allocation and deallocation method is automatic as the Python developers \n",
    "created a garbage collector for Python so that the user does not have to do manual garbage collection."
   ]
  },
  {
   "cell_type": "markdown",
   "id": "10172f0e",
   "metadata": {},
   "source": [
    "### 15. How to install Python on Windows and set path variables?"
   ]
  },
  {
   "cell_type": "markdown",
   "id": "3765568e",
   "metadata": {},
   "source": [
    "Step 1 — Downloading the Python Installer.\n",
    "Step 2 — Running the Executable Installer.\n",
    "Step 3 — Adding Python to the Environment Variables\n",
    "Step 4 — Verify the Python Installation.\n",
    "\n",
    "for set path .\n",
    "1>Right-clicking This PC and going to Properties.\n",
    "\n",
    "2>Clicking on the Advanced system settings in the menu on the left.\n",
    "\n",
    "3>Clicking on the Environment Variables button o​n the bottom right.\n",
    "\n",
    "4>In the System variables section, selecting the Path variable and clicking on Edit. The next screen will show all the directories that are currently a part of the PATH variable.\n",
    "\n",
    "5>Clicking on New and entering Python’s install directory."
   ]
  },
  {
   "cell_type": "markdown",
   "id": "781d1e21",
   "metadata": {},
   "source": [
    "### 16. Is indentation required in python?"
   ]
  },
  {
   "cell_type": "markdown",
   "id": "c3b94673",
   "metadata": {},
   "source": [
    "The indentation in Python is very important"
   ]
  },
  {
   "cell_type": "code",
   "execution_count": null,
   "id": "f29e3e38",
   "metadata": {},
   "outputs": [],
   "source": []
  }
 ],
 "metadata": {
  "kernelspec": {
   "display_name": "Python 3 (ipykernel)",
   "language": "python",
   "name": "python3"
  },
  "language_info": {
   "codemirror_mode": {
    "name": "ipython",
    "version": 3
   },
   "file_extension": ".py",
   "mimetype": "text/x-python",
   "name": "python",
   "nbconvert_exporter": "python",
   "pygments_lexer": "ipython3",
   "version": "3.9.7"
  }
 },
 "nbformat": 4,
 "nbformat_minor": 5
}
